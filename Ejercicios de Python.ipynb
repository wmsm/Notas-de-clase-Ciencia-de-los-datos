{
 "cells": [
  {
   "cell_type": "code",
   "execution_count": 7,
   "metadata": {},
   "outputs": [],
   "source": [
    "def suma_natural(n=1):\n",
    "    \"\"\"\n",
    "    Sumar los primeros n numeros naturales\n",
    "    \n",
    "    >>> suma_natural(1)\n",
    "    1\n",
    "    >>> suma_natural(5)\n",
    "    15\n",
    "    \"\"\"\n",
    "    if (n==1):\n",
    "        return 1\n",
    "    return n + suma_natural(n-1)\n",
    "\n",
    "if __name__ == '__main__':\n",
    "    import doctest\n",
    "    doctest.testmod()"
   ]
  },
  {
   "cell_type": "code",
   "execution_count": 10,
   "metadata": {},
   "outputs": [
    {
     "data": {
      "text/plain": [
       "15"
      ]
     },
     "execution_count": 10,
     "metadata": {},
     "output_type": "execute_result"
    }
   ],
   "source": [
    "suma_natural(5)"
   ]
  },
  {
   "cell_type": "markdown",
   "metadata": {},
   "source": [
    "Crear una funcion F que recibe una lista L y una funcion f y le aplica a cada elemento de la lista la funcion F"
   ]
  },
  {
   "cell_type": "code",
   "execution_count": 26,
   "metadata": {},
   "outputs": [
    {
     "data": {
      "text/plain": [
       "[1, 4, 9]"
      ]
     },
     "execution_count": 26,
     "metadata": {},
     "output_type": "execute_result"
    }
   ],
   "source": [
    "def F(lista, f):\n",
    "    return [f(i) for i in lista]\n",
    "\n",
    "def F(lista, f):\n",
    "    result = []\n",
    "    for i in lista:\n",
    "        result = result + [f(i)]\n",
    "    return result\n",
    "\n",
    "def f(n):\n",
    "    return n*n\n",
    "\n",
    "F([1,2,3],f)"
   ]
  },
  {
   "cell_type": "code",
   "execution_count": 38,
   "metadata": {},
   "outputs": [
    {
     "data": {
      "text/plain": [
       "[2, 4, 6]"
      ]
     },
     "execution_count": 38,
     "metadata": {},
     "output_type": "execute_result"
    }
   ],
   "source": [
    "def filtro(lista,f):\n",
    "    return [i for i in lista if f(i)]\n",
    "\n",
    "filtro([1,2,3,4,5,6],lambda x: x%2==0)"
   ]
  },
  {
   "cell_type": "code",
   "execution_count": 52,
   "metadata": {},
   "outputs": [
    {
     "name": "stdout",
     "output_type": "stream",
     "text": [
      "[1, 3, 6, 10, 15, 21]\n",
      "[1, 2, 6, 24, 120, 720]\n"
     ]
    }
   ],
   "source": [
    "def collect(lista, f):\n",
    "    if len(lista)==0:\n",
    "        return\n",
    "    res = [f(lista[0])]\n",
    "    for i in lista[1:]:\n",
    "        res = res + [f(res[-1],i)]\n",
    "    return res\n",
    "\n",
    "def suma(a,b=0):\n",
    "    return a+b\n",
    "def multiplica(a,b=1):\n",
    "    return a*b\n",
    "print(collect([1,2,3,4,5,6],suma))\n",
    "print(collect([1,2,3,4,5,6],multiplica))"
   ]
  },
  {
   "cell_type": "code",
   "execution_count": 51,
   "metadata": {},
   "outputs": [
    {
     "name": "stdout",
     "output_type": "stream",
     "text": [
      "[(0, 1), (1, 5), (2, 4)]\n"
     ]
    }
   ],
   "source": [
    "print(list(enumerate([1,5,4])))"
   ]
  },
  {
   "cell_type": "code",
   "execution_count": 61,
   "metadata": {},
   "outputs": [
    {
     "data": {
      "text/plain": [
       "[3, 6, 9, 12, 15]"
      ]
     },
     "execution_count": 61,
     "metadata": {},
     "output_type": "execute_result"
    }
   ],
   "source": [
    "l1 = [1,2,3,4, 5]\n",
    "l2 = [2,4,6,8,10]\n",
    "[i+j for i,j in zip(l1, l2)]"
   ]
  }
 ],
 "metadata": {
  "kernelspec": {
   "display_name": "Python 3",
   "language": "python",
   "name": "python3"
  },
  "language_info": {
   "codemirror_mode": {
    "name": "ipython",
    "version": 3
   },
   "file_extension": ".py",
   "mimetype": "text/x-python",
   "name": "python",
   "nbconvert_exporter": "python",
   "pygments_lexer": "ipython3",
   "version": "3.6.5"
  }
 },
 "nbformat": 4,
 "nbformat_minor": 2
}
