{
 "cells": [
  {
   "cell_type": "markdown",
   "metadata": {},
   "source": [
    "Edición de archivos con Awk\n",
    "===\n",
    "\n",
    "**Juan David Velásquez Henao**  \n",
    "jdvelasq@unal.edu.co   \n",
    "Universidad Nacional de Colombia, Sede Medellín  \n",
    "Facultad de Minas  \n",
    "Medellín, Colombia\n",
    "\n",
    "---\n",
    "\n",
    "Haga click [aquí](https://github.com/jdvelasq/bash-for-analytics/tree/master/) para acceder al repositorio online.\n",
    "\n",
    "Haga click [aquí](http://nbviewer.jupyter.org/github/jdvelasq/bash-for-analytics/tree/master/) para explorar el repositorio usando `nbviewer`. "
   ]
  },
  {
   "cell_type": "markdown",
   "metadata": {},
   "source": [
    "## `awk`"
   ]
  },
  {
   "cell_type": "markdown",
   "metadata": {},
   "source": [
    "`awk` es un comando para Unix creado para el procesamiento y reporte de archivos de texto que contengan varios campos de datos en una misma línea. Se considera que `awk` es una evolución de `sed`. Su uso básico es: \n",
    "\n",
    "    awk [condición] '{printf\"formato\", argumentos}' filename\n"
   ]
  },
  {
   "cell_type": "markdown",
   "metadata": {},
   "source": [
    "**Algunos comandos importantes**:\n",
    "\n",
    "* *$0*     -> Todos los campos\n",
    "* *FS*     -> Separador de campos (TAB por defecto)\n",
    "* *NF*     -> Número de campos en la linea actual\n",
    "* *NR*     -> Número de lineas en el archivo a procesar\n",
    "* *Length*     -> Longitud de la linea a procesar\n",
    "* *&&*     -> Operación lógica para la intersección\n",
    "* *||*     -> Operación lógica para la unión"
   ]
  },
  {
   "cell_type": "markdown",
   "metadata": {},
   "source": [
    "---"
   ]
  },
  {
   "cell_type": "markdown",
   "metadata": {},
   "source": [
    "En este libro se usa `awk` para realizar búsquedas (como se hace con `grep`) y editar los archivos.\n",
    "\n",
    "Se imprimen los primeros 20 números a un archivo."
   ]
  },
  {
   "cell_type": "code",
   "execution_count": 31,
   "metadata": {
    "collapsed": true
   },
   "outputs": [],
   "source": [
    "seq 20 > out.1"
   ]
  },
  {
   "cell_type": "markdown",
   "metadata": {},
   "source": [
    "Para imprimir todas las líneas que contienen un '1' se usaría: "
   ]
  },
  {
   "cell_type": "markdown",
   "metadata": {},
   "source": [
    "La cadena /1/ indica que la línea contenga un 1, los '/' son delimitadores y la cadena {print} al final indica que se imprima la linea."
   ]
  },
  {
   "cell_type": "code",
   "execution_count": 32,
   "metadata": {},
   "outputs": [
    {
     "name": "stdout",
     "output_type": "stream",
     "text": [
      "1\n",
      "10\n",
      "11\n",
      "12\n",
      "13\n",
      "14\n",
      "15\n",
      "16\n",
      "17\n",
      "18\n",
      "19\n"
     ]
    }
   ],
   "source": [
    "awk '/1/ {print}' out.1"
   ]
  },
  {
   "cell_type": "markdown",
   "metadata": {},
   "source": [
    "Para imprimir todas las líneas que contienen un '1' al **final** se usaría:"
   ]
  },
  {
   "cell_type": "code",
   "execution_count": 33,
   "metadata": {},
   "outputs": [
    {
     "name": "stdout",
     "output_type": "stream",
     "text": [
      "1\n",
      "11\n"
     ]
    }
   ],
   "source": [
    "awk '/1$/ {print}' out.1"
   ]
  },
  {
   "cell_type": "markdown",
   "metadata": {},
   "source": [
    "El siguiente comando imprime la tercera línea:"
   ]
  },
  {
   "cell_type": "code",
   "execution_count": 34,
   "metadata": {},
   "outputs": [
    {
     "name": "stdout",
     "output_type": "stream",
     "text": [
      "3\n"
     ]
    }
   ],
   "source": [
    "awk 'NR == 3 {print}' out.1"
   ]
  },
  {
   "cell_type": "markdown",
   "metadata": {},
   "source": [
    "El siguiente comando imprime de la linea 3 a la linea 6."
   ]
  },
  {
   "cell_type": "code",
   "execution_count": 35,
   "metadata": {},
   "outputs": [
    {
     "name": "stdout",
     "output_type": "stream",
     "text": [
      "3\n",
      "4\n",
      "5\n",
      "6\n"
     ]
    }
   ],
   "source": [
    "awk '(NR >= 3) && (NR <= 6) {print $0}' out.1"
   ]
  },
  {
   "cell_type": "markdown",
   "metadata": {},
   "source": [
    "A continuación se requiere imprimir todos los registros excepto los contenidos entre la linea 3 y la linea 6:"
   ]
  },
  {
   "cell_type": "code",
   "execution_count": 36,
   "metadata": {},
   "outputs": [
    {
     "name": "stdout",
     "output_type": "stream",
     "text": [
      "1\n",
      "2\n",
      "7\n",
      "8\n",
      "9\n",
      "10\n",
      "11\n",
      "12\n",
      "13\n",
      "14\n",
      "15\n",
      "16\n",
      "17\n",
      "18\n",
      "19\n",
      "20\n"
     ]
    }
   ],
   "source": [
    "awk '!((NR >= 3) && (NR <= 6)) {print $0}' out.1"
   ]
  },
  {
   "cell_type": "code",
   "execution_count": 37,
   "metadata": {},
   "outputs": [
    {
     "name": "stdout",
     "output_type": "stream",
     "text": [
      "1\n",
      "2\n",
      "7\n",
      "8\n",
      "9\n",
      "10\n",
      "11\n",
      "12\n",
      "13\n",
      "14\n",
      "15\n",
      "16\n",
      "17\n",
      "18\n",
      "19\n",
      "20\n"
     ]
    }
   ],
   "source": [
    "awk '(NR > 6) || (NR < 3) {print $0}' out.1"
   ]
  },
  {
   "cell_type": "markdown",
   "metadata": {},
   "source": [
    "De la línea 15 al final:"
   ]
  },
  {
   "cell_type": "code",
   "execution_count": 38,
   "metadata": {},
   "outputs": [
    {
     "name": "stdout",
     "output_type": "stream",
     "text": [
      "15\n",
      "16\n",
      "17\n",
      "18\n",
      "19\n",
      "20\n"
     ]
    }
   ],
   "source": [
    "awk '(NR >= 15) && (NR <= NR) {print $0}' out.1"
   ]
  },
  {
   "cell_type": "markdown",
   "metadata": {},
   "source": [
    "---"
   ]
  },
  {
   "cell_type": "markdown",
   "metadata": {},
   "source": [
    "En el archivo generado a continuación se desea substituir la `X` por `x`:"
   ]
  },
  {
   "cell_type": "code",
   "execution_count": 1,
   "metadata": {
    "collapsed": true
   },
   "outputs": [],
   "source": [
    "cat > out.1 <<EOF\n",
    "FieldA, fieldD, gieldE, FieldG\n",
    "   2, X, 2X, 2XG\n",
    "   2, Y, 2Y, 2YG \n",
    "   3, Y, 3Y, 3YG\n",
    "   3, X, 3X, 3XG\n",
    "   4, Z, 4Z, 3XG\n",
    "EOF"
   ]
  },
  {
   "cell_type": "markdown",
   "metadata": {},
   "source": [
    "`awk` permite realizar sustituciones mediante el comando `gsub()` compuesto por una expresión regular que busca el patrón y el elemento que reemplazará o modificará el elemento encontrado. La `g`  indica que es global, en caso de que se requiera una sustitución local se debe utilizar la función `sub()`.\n",
    "\n"
   ]
  },
  {
   "cell_type": "markdown",
   "metadata": {},
   "source": [
    "En el siguiente código se sustituye únicamente la primera ocurrencia en cada línea del archivo:"
   ]
  },
  {
   "cell_type": "code",
   "execution_count": 2,
   "metadata": {},
   "outputs": [
    {
     "name": "stdout",
     "output_type": "stream",
     "text": [
      "FieldA, fieldD, gieldE, FieldG\n",
      "   2, x, 2X, 2XG\n",
      "   2, Y, 2Y, 2YG \n",
      "   3, Y, 3Y, 3YG\n",
      "   3, x, 3X, 3XG\n",
      "   4, Z, 4Z, 3xG\n"
     ]
    }
   ],
   "source": [
    "awk '{sub(/X/, \"x\"); print}' out.1"
   ]
  },
  {
   "cell_type": "markdown",
   "metadata": {},
   "source": [
    "Si se desean reemplazar todas las ocurrencias se usa `gsub`."
   ]
  },
  {
   "cell_type": "code",
   "execution_count": 3,
   "metadata": {},
   "outputs": [
    {
     "name": "stdout",
     "output_type": "stream",
     "text": [
      "FieldA, fieldD, gieldE, FieldG\n",
      "   2, x, 2x, 2xG\n",
      "   2, Y, 2Y, 2YG \n",
      "   3, Y, 3Y, 3YG\n",
      "   3, x, 3x, 3xG\n",
      "   4, Z, 4Z, 3xG\n"
     ]
    }
   ],
   "source": [
    "awk '{gsub(/X/, \"x\"); print}' out.1"
   ]
  },
  {
   "cell_type": "markdown",
   "metadata": {},
   "source": [
    "Se puede utiliza el comando `gsub` para varias sustituciones separandolo por **`;`** :"
   ]
  },
  {
   "cell_type": "code",
   "execution_count": 4,
   "metadata": {},
   "outputs": [
    {
     "name": "stdout",
     "output_type": "stream",
     "text": [
      "FieldA, fieldD, gieldE, FieldG\n",
      "   2, x, 2x, 2xG\n",
      "   2, y, 2y, 2yG \n",
      "   3, y, 3y, 3yG\n",
      "   3, x, 3x, 3xG\n",
      "   4, Z, 4Z, 3xG\n"
     ]
    }
   ],
   "source": [
    "awk '{gsub(/X/, \"x\"); gsub(/Y/, \"y\"); print}' out.1"
   ]
  },
  {
   "cell_type": "markdown",
   "metadata": {},
   "source": [
    "---"
   ]
  },
  {
   "cell_type": "markdown",
   "metadata": {},
   "source": [
    "La función `split` permite separar strings e incluir sus elementos en un array, el cual se recorre de acuerdo con la posición. Sigue la siguiente estructura:\n",
    "\n",
    "      split($0,nombre_arreglo,\"separador\")\n"
   ]
  },
  {
   "cell_type": "markdown",
   "metadata": {},
   "source": [
    "Sea el siguiente archivo:"
   ]
  },
  {
   "cell_type": "code",
   "execution_count": 43,
   "metadata": {
    "collapsed": true
   },
   "outputs": [],
   "source": [
    "cat > out.1 <<EOF\n",
    "Maria-Patricia-Hernandez-Castro\n",
    "Jose-Francisco-Montes-Lopez\n",
    "EOF"
   ]
  },
  {
   "cell_type": "markdown",
   "metadata": {},
   "source": [
    "El segundo nombre puede extraerse con:"
   ]
  },
  {
   "cell_type": "code",
   "execution_count": 44,
   "metadata": {},
   "outputs": [
    {
     "name": "stdout",
     "output_type": "stream",
     "text": [
      "Patricia\n",
      "Francisco\n"
     ]
    }
   ],
   "source": [
    "awk '{split($0,nombre,\"-\")} {print nombre[2]}' out.1"
   ]
  },
  {
   "cell_type": "markdown",
   "metadata": {},
   "source": [
    "---"
   ]
  },
  {
   "cell_type": "markdown",
   "metadata": {},
   "source": [
    "A continuación se presenta un ejemplo más complejo de modificación de un patrón. Sea el siguiente archivo:"
   ]
  },
  {
   "cell_type": "code",
   "execution_count": 5,
   "metadata": {
    "collapsed": true
   },
   "outputs": [],
   "source": [
    "cat > out.1 <<EOF\n",
    "Maria-1998:feb:2+M19\n",
    "David-1972:nov:25+J45\n",
    "Marco-2000:jun:4+V17\n",
    "EOF"
   ]
  },
  {
   "cell_type": "markdown",
   "metadata": {},
   "source": [
    "Se desea formatear la fecha de nacimiento completa de la persona y su edad, es decir, la primera linea:\n",
    "\n",
    "```\n",
    "Maria-1998:feb:2+M19\n",
    "```\n",
    "\n",
    "debe cambiarse por:\n",
    "\n",
    "```\n",
    "Maria 1998-02-02 M 19\n",
    "```\n"
   ]
  },
  {
   "cell_type": "markdown",
   "metadata": {},
   "source": [
    "La función `gensub` permite realizar busquedas a través de expresiones regulares y reemplazar dichos valores por elementos a elección de acuerdo con la frecuencia de coincidencia del patrón.\n",
    "\n",
    "\n",
    "El primer paso consiste en reemplazar ` : `  por  `-`."
   ]
  },
  {
   "cell_type": "code",
   "execution_count": 6,
   "metadata": {},
   "outputs": [
    {
     "name": "stdout",
     "output_type": "stream",
     "text": [
      "Maria-1998:feb:2+M19\n",
      "David-1972:nov:25+J45\n",
      "Marco-2000:jun:4+V17\n"
     ]
    }
   ],
   "source": [
    "cat out.1"
   ]
  },
  {
   "cell_type": "code",
   "execution_count": 21,
   "metadata": {
    "scrolled": true
   },
   "outputs": [
    {
     "name": "stdout",
     "output_type": "stream",
     "text": [
      "Maria-1998-feb:2+M19\n",
      "David-1972-nov:25+J45\n",
      "Marco-2000-jun:4+V17\n"
     ]
    }
   ],
   "source": [
    "### la función gensub solo funciona para la version gnu awk\n",
    "### debe reemplazarse por la generica\n",
    "awk '{print gensub(/\\:([a-zA-Z]*)/,\"-\"\"\\\\1\",1)}' out.1 > out.2\n",
    "cat out.2"
   ]
  },
  {
   "cell_type": "markdown",
   "metadata": {},
   "source": [
    "La explicación del comando anterior es la siguiente:\n",
    " \n",
    " \n",
    "Patrón entrada\n",
    "  \n",
    " * El caracter `/`  indica el inicio y el fin de la expresión regular.\n",
    " * Los caracteres '(' y ')' contienen la expresión, caracter o dígito que se desea guardar.\n",
    " * [a-z] indica una cadena.\n",
    " * El caracter '*' indica que existen cadenas luego de la expresión regular\n",
    " \n",
    "Patrón salida\n",
    " * \"\\\\\\1\" primer elemento de la busqueda que fue guardado.\n",
    " \n",
    "Frecuencia\n",
    " * \"1\" se debe reemplazar cuando encuentre el patrón por primera vez."
   ]
  },
  {
   "cell_type": "code",
   "execution_count": 22,
   "metadata": {},
   "outputs": [
    {
     "name": "stdout",
     "output_type": "stream",
     "text": [
      "Maria-1998-feb-2+M19\n",
      "David-1972-nov-25+J45\n",
      "Marco-2000-jun-4+V17\n"
     ]
    }
   ],
   "source": [
    "awk '{print gensub(/:([0-9])/, \"-\\\\1\", 1)}' out.2 > out.3\n",
    "cat out.3"
   ]
  },
  {
   "cell_type": "code",
   "execution_count": 23,
   "metadata": {
    "scrolled": true
   },
   "outputs": [
    {
     "name": "stdout",
     "output_type": "stream",
     "text": [
      "Maria-1998-feb-02+M19\n",
      "David-1972-nov-05+J45\n",
      "Marco-2000-jun-04+V17\n"
     ]
    }
   ],
   "source": [
    "awk '{print gensub(/-([0-9])*/, \"-0\\\\1\", 3)}' out.3 > out.4\n",
    "cat out.4"
   ]
  },
  {
   "cell_type": "code",
   "execution_count": 24,
   "metadata": {},
   "outputs": [
    {
     "name": "stdout",
     "output_type": "stream",
     "text": [
      "Maria-1998-feb-02 M 19\n",
      "David-1972-nov-05 J 45\n",
      "Marco-2000-jun-04 V 17\n"
     ]
    }
   ],
   "source": [
    "awk '{print gensub(/+([A-Z])([0-9][0-9])/, \" \\\\1 \\\\2\", 1)}' out.4 > out.5\n",
    "cat out.5"
   ]
  },
  {
   "cell_type": "code",
   "execution_count": 25,
   "metadata": {
    "scrolled": true
   },
   "outputs": [
    {
     "name": "stdout",
     "output_type": "stream",
     "text": [
      "Maria 1998-feb-02 M 19\n",
      "David 1972-nov-05 J 45\n",
      "Marco 2000-jun-04 V 17\n"
     ]
    }
   ],
   "source": [
    "awk '{sub(/-/, \" \"); print}' out.5 > out.6\n",
    "cat out.6"
   ]
  },
  {
   "cell_type": "code",
   "execution_count": 26,
   "metadata": {},
   "outputs": [
    {
     "name": "stdout",
     "output_type": "stream",
     "text": [
      "Maria 1998-02-02 M 19\n",
      "David 1972-11-05 J 45\n",
      "Marco 2000-06-04 V 17\n"
     ]
    }
   ],
   "source": [
    "awk '{gsub(/feb/, \"02\"); gsub(/nov/, \"11\");gsub(/jun/, \"06\");print}' out.6"
   ]
  },
  {
   "cell_type": "markdown",
   "metadata": {},
   "source": [
    "---"
   ]
  },
  {
   "cell_type": "markdown",
   "metadata": {},
   "source": [
    "Sea el siguiente archivo:"
   ]
  },
  {
   "cell_type": "code",
   "execution_count": null,
   "metadata": {
    "collapsed": true
   },
   "outputs": [],
   "source": [
    "cat > out.1 <<EOF\n",
    "Date, Price, Quantity, CustomerID\n",
    "2013-01-12, 25, 7, 1\n",
    "2014-05-12, 41, 5, 12\n",
    "2013-02-25, 44, 3, 2\n",
    "2013-04-04, 90, 1, 5\n",
    "2013-06-21, 16, 2, 19\n",
    "2014-05-12, 63, 2, 15\n",
    "2014-05-12, 10, 4, 7\n",
    "2013-02-28, 78, 8, 9\n",
    "2013-08-02, 51, 1, 14\n",
    "EOF"
   ]
  },
  {
   "cell_type": "markdown",
   "metadata": {},
   "source": [
    "Se desea agregar un nuevo campo llamado `Quantity-CustomerID` que contenga la cantidad de producto y el cliente. El siguiente comando une las columnas de interés:"
   ]
  },
  {
   "cell_type": "code",
   "execution_count": null,
   "metadata": {
    "collapsed": true
   },
   "outputs": [],
   "source": [
    "awk '{print gensub(/, ([0-9][0-9]), ([0-9]), ([0-9])/, \", \\\\1, \\\\2-\\\\3\", 1)}' out.1 > out.2\n",
    "cat out.2"
   ]
  },
  {
   "cell_type": "markdown",
   "metadata": {},
   "source": [
    "Se agrega el título `Quantity-CustomerID`:"
   ]
  },
  {
   "cell_type": "code",
   "execution_count": null,
   "metadata": {
    "collapsed": true,
    "scrolled": true
   },
   "outputs": [],
   "source": [
    "awk '{print gensub(/([a-zA-Z]*), ([a-zA-Z]*), ([a-zA-Z]*), ([a-zA-Z]*)/, \"\\\\1, \\\\2, \\\\3-\\\\4\", 1)}' out.2"
   ]
  },
  {
   "cell_type": "markdown",
   "metadata": {},
   "source": [
    "A través del comando `BEGIN` y `END` se pueden agregar valores al principio y al final de las columnas o de todo el archivo de texto. \n",
    "\n",
    "El comando `NR>1` indica que se debe tener en cuenta solo filas a partir de la posicion 1 y `{print $0}` que se deben tener en cuenta todas las columnas."
   ]
  },
  {
   "cell_type": "code",
   "execution_count": null,
   "metadata": {
    "collapsed": true
   },
   "outputs": [],
   "source": [
    "awk 'BEGIN{print \"Date, Price, Quantity-CustomerID\"}(NR>1){print $0}' out.2"
   ]
  },
  {
   "cell_type": "code",
   "execution_count": null,
   "metadata": {
    "collapsed": true
   },
   "outputs": [],
   "source": [
    "awk '(NR>1){print $3} END{print \"Hola\"}' out.2"
   ]
  },
  {
   "cell_type": "markdown",
   "metadata": {},
   "source": [
    "* Se desea agregar un nuevo campo llamado `Quantity*Price` que contenga el total de la cuenta de cada compra. El comando {print `$1` `$2`} concatena e imprime columnas  iniciando el conteo en 1 de izquierda a derecha."
   ]
  },
  {
   "cell_type": "code",
   "execution_count": null,
   "metadata": {
    "collapsed": true
   },
   "outputs": [],
   "source": [
    "awk -F\",\" '{print $1\",\"$2\",\"$3\", \"$4\", \"$2*$4}' out.1 > out.2\n",
    "cat out.2"
   ]
  },
  {
   "cell_type": "markdown",
   "metadata": {},
   "source": [
    "Ahora, se debe agregar el título a la nueva columna:"
   ]
  },
  {
   "cell_type": "code",
   "execution_count": null,
   "metadata": {
    "collapsed": true
   },
   "outputs": [],
   "source": [
    "## TODO: no funciona en BSD\n",
    "awk '{print gsub(/, 0/, \", Total\", 1)}' out.2 "
   ]
  },
  {
   "cell_type": "markdown",
   "metadata": {},
   "source": [
    "Se puede utilizar el comando la opción `-F` y `OFS` para cambiar el separador del archivo de texto:"
   ]
  },
  {
   "cell_type": "code",
   "execution_count": null,
   "metadata": {
    "collapsed": true
   },
   "outputs": [],
   "source": [
    "awk -F\",\" 'BEGIN{OFS=\"|\";}{print $1,$2,$3,$4}' out.1"
   ]
  },
  {
   "cell_type": "markdown",
   "metadata": {},
   "source": [
    "---"
   ]
  },
  {
   "cell_type": "markdown",
   "metadata": {},
   "source": [
    "**Ejercicio.--** Agregar una columna al archivo `USAA.txt` que contenga los años que hacen falta para que se acabe de pagar el crédito causado, a partir del año `2017`."
   ]
  },
  {
   "cell_type": "markdown",
   "metadata": {},
   "source": [
    "---"
   ]
  },
  {
   "cell_type": "markdown",
   "metadata": {},
   "source": [
    "### Borrado de los archivos temporales creados"
   ]
  },
  {
   "cell_type": "code",
   "execution_count": 57,
   "metadata": {
    "collapsed": true
   },
   "outputs": [],
   "source": [
    "rm out.*"
   ]
  },
  {
   "cell_type": "markdown",
   "metadata": {},
   "source": [
    "---"
   ]
  },
  {
   "cell_type": "markdown",
   "metadata": {},
   "source": [
    "Edición de archivos con Awk\n",
    "===\n",
    "\n",
    "**Juan David Velásquez Henao**  \n",
    "jdvelasq@unal.edu.co   \n",
    "Universidad Nacional de Colombia, Sede Medellín  \n",
    "Facultad de Minas  \n",
    "Medellín, Colombia\n",
    "\n",
    "\n",
    "---\n",
    "\n",
    "Haga click [aquí](https://github.com/jdvelasq/bash-for-analytics/tree/master/) para acceder al repositorio online.\n",
    "\n",
    "Haga click [aquí](http://nbviewer.jupyter.org/github/jdvelasq/bash-for-analytics/tree/master/) para explorar el repositorio usando `nbviewer`. "
   ]
  }
 ],
 "metadata": {
  "kernelspec": {
   "display_name": "Bash",
   "language": "bash",
   "name": "bash"
  },
  "language_info": {
   "codemirror_mode": "shell",
   "file_extension": ".sh",
   "mimetype": "text/x-sh",
   "name": "bash"
  }
 },
 "nbformat": 4,
 "nbformat_minor": 2
}
