{
 "cells": [
  {
   "cell_type": "markdown",
   "metadata": {},
   "source": [
    "Introducción Perl\n",
    "===\n",
    "\n",
    "**Juan David Velásquez Henao**  \n",
    "jdvelasq@unal.edu.co   \n",
    "Universidad Nacional de Colombia, Sede Medellín  \n",
    "Facultad de Minas  \n",
    "Medellín, Colombia\n",
    "\n",
    "---\n",
    "\n",
    "Haga click [aquí](https://github.com/jdvelasq/bash-for-analytics/tree/master/) para acceder al repositorio online.\n",
    "\n",
    "Haga click [aquí](http://nbviewer.jupyter.org/github/jdvelasq/bash-for-analytics/tree/master/) para explorar el repositorio usando `nbviewer`. "
   ]
  },
  {
   "cell_type": "markdown",
   "metadata": {},
   "source": [
    "# Descripción"
   ]
  },
  {
   "cell_type": "markdown",
   "metadata": {},
   "source": [
    "Perl es un lenguaje de programación interpretado que se especializa en el procesamiento de texto y programación web. Se destaca por ser breve, efectivo y dinámico, lo que permite que la codificación sea más sencilla para los programadores.\n",
    "\n",
    "En el área de analítica, su función se enfoca en la extracción, limpieza y procesamiento  de archivos de texto teniendo como ventaja la fácil conexión a bases de datos relacionales."
   ]
  },
  {
   "cell_type": "markdown",
   "metadata": {
    "slideshow": {
     "slide_type": "slide"
    }
   },
   "source": [
    "# Distribuciones\n",
    "\n",
    "\n",
    "* Strawberry Perl (http://strawberryperl.com)\n",
    "\n",
    "\n",
    "* ActiveSite (https://www.activestate.com/activeperl)\n",
    "\n",
    "\n",
    "* DWIM Perl (http://dwimperl.szabgab.com)\n",
    "\n"
   ]
  },
  {
   "cell_type": "markdown",
   "metadata": {
    "collapsed": true,
    "slideshow": {
     "slide_type": "slide"
    }
   },
   "source": [
    "# Ejecución \n",
    "\n",
    "\n",
    "* Ejecución con Jupyter a través de magic cells con Python.\n",
    "\n",
    "\n",
    "* Desde Padre utilizando DWIN Perl o Strawberry Perl\n",
    "\n",
    "\n",
    "* Ejecución interactiva a través de scripts"
   ]
  },
  {
   "cell_type": "markdown",
   "metadata": {
    "slideshow": {
     "slide_type": "slide"
    }
   },
   "source": [
    "# Introducción"
   ]
  },
  {
   "cell_type": "code",
   "execution_count": 14,
   "metadata": {},
   "outputs": [
    {
     "name": "stdout",
     "output_type": "stream",
     "text": [
      "Hola "
     ]
    }
   ],
   "source": [
    "perl -e 'print \"Hola $Mundo\"'"
   ]
  },
  {
   "cell_type": "markdown",
   "metadata": {},
   "source": [
    "El contenido que se encuentre entre comillas simples `''` se toma como literal mientras que el que se encuentra entre comillas dobles `\"\"` es interpretable, es decir puede incluir variables.\n",
    "Observe que en el resultado anterior solo se imprime `Hola` ya que `$Mundo` representa una variable vacía."
   ]
  },
  {
   "cell_type": "markdown",
   "metadata": {},
   "source": [
    "Perl cuenta con modulos, homologos a los paquetes de Python y R, que permiten obtener ciertas funciones que facilitan la codificación. Entre los escenciales se encuentra el uso de `strict`.\n",
    "\n",
    "`use strict:` Encuentra errores de sintaxis no reconocidos por Perl como detectar variables sin declarar y el uso del mismo nombre para varias estructuras y subrutinas, luego detiene la compilación. Es ampliamente utilizado por programadores avanzados para correr aplicaciones eficientemente.\n",
    "\n",
    "`use warnings:` Revela indicaciones sobre los errores de código. \n"
   ]
  },
  {
   "cell_type": "markdown",
   "metadata": {},
   "source": [
    "---"
   ]
  },
  {
   "cell_type": "markdown",
   "metadata": {},
   "source": [
    "# Filtros y procesamiento"
   ]
  },
  {
   "cell_type": "markdown",
   "metadata": {},
   "source": [
    "Sea el siguiente archivo:"
   ]
  },
  {
   "cell_type": "code",
   "execution_count": 1,
   "metadata": {},
   "outputs": [],
   "source": [
    "cat > out.1 <<EOF\n",
    "Mirar el río hecho de tiempo y agua\n",
    "Y recordar que el tiempo es otro río\n",
    "Saber que nos perdemos como el río\n",
    "Y que los rostros pasan como el agua\n",
    "EOF"
   ]
  },
  {
   "cell_type": "markdown",
   "metadata": {},
   "source": [
    "Para imprimir una fila en particular se utiliza el siguiente comando:"
   ]
  },
  {
   "cell_type": "code",
   "execution_count": 43,
   "metadata": {},
   "outputs": [
    {
     "name": "stdout",
     "output_type": "stream",
     "text": [
      "Y que los rostros pasan como el agua\n"
     ]
    }
   ],
   "source": [
    "perl -ne 'print if $.==4' out.1"
   ]
  },
  {
   "cell_type": "markdown",
   "metadata": {},
   "source": [
    "De la misma forma se pueden imprimir conjuntos de registros."
   ]
  },
  {
   "cell_type": "code",
   "execution_count": 45,
   "metadata": {},
   "outputs": [
    {
     "name": "stdout",
     "output_type": "stream",
     "text": [
      "Mirar el río hecho de tiempo y agua\n",
      "Y recordar que el tiempo es otro río\n",
      "Saber que nos perdemos como el río\n"
     ]
    }
   ],
   "source": [
    "perl -ne 'print if 1..3' out.1"
   ]
  },
  {
   "cell_type": "markdown",
   "metadata": {},
   "source": [
    "Para imprimir en pantalla todas las líneas que contienen `Y` se usa el comando: "
   ]
  },
  {
   "cell_type": "code",
   "execution_count": 23,
   "metadata": {},
   "outputs": [
    {
     "name": "stdout",
     "output_type": "stream",
     "text": [
      "Mirar el río hecho de tiempo y agua\n",
      "Y recordar que el tiempo es otro río\n",
      "Y que los rostros pasan como el agua\n"
     ]
    }
   ],
   "source": [
    "perl -ne 'print if /Y/i' out.1"
   ]
  },
  {
   "cell_type": "code",
   "execution_count": 28,
   "metadata": {},
   "outputs": [
    {
     "name": "stdout",
     "output_type": "stream",
     "text": [
      "Mirar el río hecho de tiempo y agua\n"
     ]
    }
   ],
   "source": [
    "perl -ne 'print if m#y#' out.1 "
   ]
  },
  {
   "cell_type": "markdown",
   "metadata": {},
   "source": [
    "Observe que la sintaxis anterior permite buscar de forma literal elementos dentro del texto mientras que en la primera la letra`y` se interpreta como mayúscula o minúscula.\n",
    "\n",
    "El siguiente comando imprime todas las líneas que contienen `Y` al inicio de la frase:"
   ]
  },
  {
   "cell_type": "code",
   "execution_count": 24,
   "metadata": {},
   "outputs": [
    {
     "name": "stdout",
     "output_type": "stream",
     "text": [
      "Y recordar que el tiempo es otro río\n",
      "Y que los rostros pasan como el agua\n"
     ]
    }
   ],
   "source": [
    "perl -ne 'print if /^[Y]/' out.1"
   ]
  },
  {
   "cell_type": "markdown",
   "metadata": {},
   "source": [
    "El siguiente comando imprime todas las líneas que contienen `río` al final de la frase:"
   ]
  },
  {
   "cell_type": "code",
   "execution_count": 25,
   "metadata": {},
   "outputs": [
    {
     "name": "stdout",
     "output_type": "stream",
     "text": [
      "Y recordar que el tiempo es otro río\n",
      "Saber que nos perdemos como el río\n"
     ]
    }
   ],
   "source": [
    "perl -ne 'print if /[río]$/' out.1"
   ]
  },
  {
   "cell_type": "markdown",
   "metadata": {},
   "source": [
    "Para obtener la concatenación de dos condiciones se utiliza el simbolo `&&` y para obtener el complemento de la busqueda el simbolo `!`."
   ]
  },
  {
   "cell_type": "code",
   "execution_count": 26,
   "metadata": {},
   "outputs": [
    {
     "name": "stdout",
     "output_type": "stream",
     "text": [
      "Y recordar que el tiempo es otro río\n"
     ]
    }
   ],
   "source": [
    "perl -ne 'print if /tiempo/ && !/agua/' out.1"
   ]
  },
  {
   "cell_type": "markdown",
   "metadata": {},
   "source": [
    "Es posible obtener un filtro de los elementos que contienen mas de una expresión a través de la función `index`."
   ]
  },
  {
   "cell_type": "code",
   "execution_count": 42,
   "metadata": {},
   "outputs": [
    {
     "name": "stdout",
     "output_type": "stream",
     "text": [
      "Y recordar que el tiempo es otro río\n"
     ]
    }
   ],
   "source": [
    "s='Y recordar' perl -ne 'print if index($_, $ENV{s})==0' out.1"
   ]
  },
  {
   "cell_type": "markdown",
   "metadata": {},
   "source": [
    "En el caso anterior, se buscó la expresión `Y recordar` al principio de la frase (`==0`).\n"
   ]
  },
  {
   "cell_type": "code",
   "execution_count": 46,
   "metadata": {},
   "outputs": [
    {
     "name": "stdout",
     "output_type": "stream",
     "text": [
      "Mirar\n",
      "Y\n",
      "Saber\n",
      "Y\n"
     ]
    }
   ],
   "source": [
    "#Es posible indexar sobre los elementos de una expresión\n",
    "#reconociendo los espacios como separadores por defecto.\n",
    "perl -lane 'print $F[0]' out.1"
   ]
  },
  {
   "cell_type": "markdown",
   "metadata": {},
   "source": [
    "Para realizar comparaciones entre texto se utiliza `eq` como `==` y `ne` como `!=`, e igualmente para la impresión del resultado es posible establecer el separador deseado."
   ]
  },
  {
   "cell_type": "code",
   "execution_count": 48,
   "metadata": {},
   "outputs": [
    {
     "name": "stdout",
     "output_type": "stream",
     "text": [
      "el\n",
      "rostros\n"
     ]
    }
   ],
   "source": [
    "perl -lane 'print $F[3] if $F[0] eq \"Y\"' out.1"
   ]
  },
  {
   "cell_type": "code",
   "execution_count": 55,
   "metadata": {},
   "outputs": [
    {
     "name": "stdout",
     "output_type": "stream",
     "text": [
      "río-hecho\n",
      "nos-perdemos\n"
     ]
    }
   ],
   "source": [
    "perl -lane '$,=\"-\"; print $F[2],$F[3] if $F[0] ne \"Y\"' out.1"
   ]
  },
  {
   "cell_type": "code",
   "execution_count": 74,
   "metadata": {},
   "outputs": [
    {
     "name": "stdout",
     "output_type": "stream",
     "text": [
      "Mirar el río hecho de tiempo y agua\n",
      "----\n",
      "Y recordar que el tiempo es otro río\n",
      "----\n",
      "Saber que nos perdemos como el río\n",
      "----\n",
      "Y que los rostros pasan como el agua\n",
      "----\n"
     ]
    }
   ],
   "source": [
    "perl -ne 'BEGIN{$\\=\"----\\n\"} print' out.1"
   ]
  },
  {
   "cell_type": "markdown",
   "metadata": {},
   "source": [
    "---"
   ]
  },
  {
   "cell_type": "markdown",
   "metadata": {},
   "source": [
    "# Expresiones regulares"
   ]
  },
  {
   "cell_type": "markdown",
   "metadata": {},
   "source": [
    "Existen expresiones que facilitan la busquedas de patrones especificos. Algunas de ellas son:\n",
    "\n",
    "* `*`  -     Conincide 0 o mas veces\n",
    "* `+`  - Conincide 1 o mas veces\n",
    "* `?`   - Conincide 0 o 1 vez\n",
    "\n",
    "* `\\d` - Elementos numéricos (o \\D para el complemento de la busqueda)\n",
    "* `\\w` - Cualquier caracter de una palabra (o \\W ara el complemento de la busqueda)\n",
    "* `$&`  -Parar referirse a todos los elementos que detectados\n",
    "* `{n,}` -  Conincide por lo menos n veces"
   ]
  },
  {
   "cell_type": "markdown",
   "metadata": {},
   "source": [
    "Sea el siguiente archivo:"
   ]
  },
  {
   "cell_type": "code",
   "execution_count": 227,
   "metadata": {},
   "outputs": [],
   "source": [
    "cat > out.2 <<EOF\n",
    "1980-JAN-1+1:0:1.134\n",
    "1980-JAN-5+1:0:1.12\n",
    "1982-JAN-13+10:12:42.33\n",
    "EOF"
   ]
  },
  {
   "cell_type": "markdown",
   "metadata": {},
   "source": [
    "Se desea formatear la fecha y la hora, es decir, la primera línea:\n",
    "\n",
    "```\n",
    "1980-JAN-1+1:0:1.134\n",
    "```\n",
    "\n",
    "debe cambiarse por:\n",
    "\n",
    "```\n",
    "1980-JAN-01 01:00:01\n",
    "```\n"
   ]
  },
  {
   "cell_type": "markdown",
   "metadata": {},
   "source": [
    "Las expresiones regulares siguen una estructura similar a las de sed, teniendo un patrón a identificar y una expresión con la cual reemplazar o editar el elemtno anterior. \n",
    "\n",
    "`s/patrón/reemplazo`\n",
    "\n",
    "Consulte la guía de usuario de las expresiones regulares en Perl [aquí](https://perldoc.perl.org/perlre.html#Regular-Expressions)"
   ]
  },
  {
   "cell_type": "code",
   "execution_count": 228,
   "metadata": {},
   "outputs": [
    {
     "name": "stdout",
     "output_type": "stream",
     "text": [
      "1980-JAN-1 1:0:1.134\n",
      "1980-JAN-5 1:0:1.12\n",
      "1982-JAN-13 10:12:42.33\n"
     ]
    }
   ],
   "source": [
    "perl -pe 's/\\+/ /' out.2 > out.3\n",
    "cat out.3"
   ]
  },
  {
   "cell_type": "code",
   "execution_count": 229,
   "metadata": {},
   "outputs": [
    {
     "name": "stdout",
     "output_type": "stream",
     "text": [
      "1980-JAN-01 1:0:1.134\n",
      "1980-JAN-05 1:0:1.12\n",
      "1982-JAN-13 10:12:42.33\n"
     ]
    }
   ],
   "source": [
    "perl -pe 's/-(\\w+)-(\\d)\\b/-$1-0$2/g' out.3 > out.4\n",
    "cat out.4"
   ]
  },
  {
   "cell_type": "markdown",
   "metadata": {},
   "source": [
    "La explicación del comando anterior es la siguiente. El patrón de entrada está conformado por los siguientes elementos:\n",
    "* El caracter `-`.\n",
    "* Una palabra `\\w+`. Las secuencias `(` y `)` especifican que el dígito reconocido debe recordarse. Pueden existir varias cadenas a recordar; la primera cadena es `$1`, la segunda cadena es `$2` y así sucesivamente. `(?1)` se utiliza para recordar una expresión regular anterior.\n",
    "* Un dígito `\\d`.\n",
    "* Un espacio `\\b`.\n",
    "\n",
    "El patrón de salida indica que:\n",
    "* Se imprime el caracter `-`.\n",
    "* Luego `JAN`.\n",
    "* A continuación el caracter `-` seguido de `0` y  del dígito reconocido de `$2`.\n"
   ]
  },
  {
   "cell_type": "code",
   "execution_count": 230,
   "metadata": {},
   "outputs": [
    {
     "name": "stdout",
     "output_type": "stream",
     "text": [
      "1980-JAN-01 01:00:1.134\n",
      "1980-JAN-05 01:00:1.12\n",
      "1982-JAN-13 10:12:42.33\n"
     ]
    }
   ],
   "source": [
    "perl -pe 's/ (\\d):(\\d):/ 0$1:0$2:/g' out.4 > out.5\n",
    "cat out.5"
   ]
  },
  {
   "cell_type": "code",
   "execution_count": 231,
   "metadata": {},
   "outputs": [
    {
     "name": "stdout",
     "output_type": "stream",
     "text": [
      "1980-JAN-01 01:00:1\n",
      "1980-JAN-05 01:00:1\n",
      "1982-JAN-13 10:12:42\n"
     ]
    }
   ],
   "source": [
    "perl -pe 's/:(\\d*)\\.(\\d)+/:$1/g' out.5 > out.6\n",
    "cat out.6"
   ]
  },
  {
   "cell_type": "code",
   "execution_count": 232,
   "metadata": {},
   "outputs": [
    {
     "name": "stdout",
     "output_type": "stream",
     "text": [
      "1980-JAN-01 01:00:01\n",
      "1980-JAN-05 01:00:01\n",
      "1982-JAN-13 10:12:42\n"
     ]
    }
   ],
   "source": [
    "perl -pe 's/:(\\d)\\b/:0$1/g' out.6 > out.7\n",
    "cat out.7"
   ]
  },
  {
   "cell_type": "code",
   "execution_count": 233,
   "metadata": {},
   "outputs": [],
   "source": [
    "rm out.*"
   ]
  },
  {
   "cell_type": "markdown",
   "metadata": {},
   "source": [
    "---"
   ]
  },
  {
   "cell_type": "markdown",
   "metadata": {},
   "source": [
    "Sea el siguiente archivo:"
   ]
  },
  {
   "cell_type": "code",
   "execution_count": 265,
   "metadata": {},
   "outputs": [],
   "source": [
    "cat > out.3 <<EOF\n",
    "Cuentan que Ulises, harto de prodigios \n",
    "lloró de amor al divisar su Itaca \n",
    "verde y humilde. El arte es esa Itaca \n",
    "de verde eternidad, no de prodigios \n",
    "EOF"
   ]
  },
  {
   "cell_type": "markdown",
   "metadata": {},
   "source": [
    "Es posible utilizar algunos comandos especiales para editar los registros en cuanto a su composición."
   ]
  },
  {
   "cell_type": "code",
   "execution_count": 266,
   "metadata": {},
   "outputs": [
    {
     "name": "stdout",
     "output_type": "stream",
     "text": [
      " de prodigios \n",
      "lloró de amor al divisar su Itaca \n",
      "verde y humilde. El arte es esa Itaca \n",
      "de verde eternidad, no de prodigios \n"
     ]
    }
   ],
   "source": [
    "#Detecta la información entre un elemento y otro \n",
    "perl -pe 's/Cuentan.*harto//' out.3"
   ]
  },
  {
   "cell_type": "code",
   "execution_count": 267,
   "metadata": {},
   "outputs": [
    {
     "name": "stdout",
     "output_type": "stream",
     "text": [
      "uentan que Ulises, harto de prodigios \n",
      "loró de amor al divisar su Itaca \n",
      "erde y humilde. El arte es esa Itaca \n",
      "e verde eternidad, no de prodigios \n"
     ]
    }
   ],
   "source": [
    "#Permite filtrar elementos de una expresión de acuerdo a su tipo\n",
    "perl -pe 's/\\w{1}//' out.3"
   ]
  },
  {
   "cell_type": "code",
   "execution_count": 268,
   "metadata": {},
   "outputs": [
    {
     "name": "stdout",
     "output_type": "stream",
     "text": [
      "prodigios\n",
      "Itaca\n",
      "Itaca\n",
      "prodigios\n"
     ]
    }
   ],
   "source": [
    "perl -lane 'print \"@F[-1]\"' out.3"
   ]
  },
  {
   "cell_type": "code",
   "execution_count": 271,
   "metadata": {},
   "outputs": [
    {
     "name": "stdout",
     "output_type": "stream",
     "text": [
      " soigidorp ed otrah ,sesilU euq natneuC\n",
      " acatI us rasivid la roma ed ��roll\n",
      " acatI ase se etra lE .edlimuh y edrev\n",
      " soigidorp ed on ,dadinrete edrev ed\n"
     ]
    }
   ],
   "source": [
    "#Es posible contar los elementos de una frase a través de $.\n",
    "perl -lne 'print reverse split//' out.3"
   ]
  },
  {
   "cell_type": "markdown",
   "metadata": {},
   "source": [
    "### Borrado de los archivos temporales creados"
   ]
  },
  {
   "cell_type": "code",
   "execution_count": null,
   "metadata": {},
   "outputs": [],
   "source": [
    "rm out.*"
   ]
  },
  {
   "cell_type": "markdown",
   "metadata": {},
   "source": [
    "Introducción Perl\n",
    "===\n",
    "\n",
    "**Juan David Velásquez Henao**  \n",
    "jdvelasq@unal.edu.co   \n",
    "Universidad Nacional de Colombia, Sede Medellín  \n",
    "Facultad de Minas  \n",
    "Medellín, Colombia\n",
    "\n",
    "---\n",
    "\n",
    "Haga click [aquí](https://github.com/jdvelasq/bash-for-analytics/tree/master/) para acceder al repositorio online.\n",
    "\n",
    "Haga click [aquí](http://nbviewer.jupyter.org/github/jdvelasq/bash-for-analytics/tree/master/) para explorar el repositorio usando `nbviewer`. "
   ]
  },
  {
   "cell_type": "code",
   "execution_count": null,
   "metadata": {},
   "outputs": [],
   "source": []
  }
 ],
 "metadata": {
  "kernelspec": {
   "display_name": "Bash",
   "language": "bash",
   "name": "bash"
  },
  "language_info": {
   "codemirror_mode": "shell",
   "file_extension": ".sh",
   "mimetype": "text/x-sh",
   "name": "bash"
  }
 },
 "nbformat": 4,
 "nbformat_minor": 2
}
