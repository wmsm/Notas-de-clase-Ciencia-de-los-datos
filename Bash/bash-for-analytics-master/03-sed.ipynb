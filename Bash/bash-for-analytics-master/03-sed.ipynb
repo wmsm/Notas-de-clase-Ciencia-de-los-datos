{
 "cells": [
  {
   "cell_type": "markdown",
   "metadata": {},
   "source": [
    "Edición de archivos con Sed\n",
    "===\n",
    "\n",
    "**Juan David Velásquez Henao**  \n",
    "jdvelasq@unal.edu.co   \n",
    "Universidad Nacional de Colombia, Sede Medellín  \n",
    "Facultad de Minas  \n",
    "Medellín, Colombia\n",
    "\n",
    "---\n",
    "\n",
    "Haga click [aquí](https://github.com/jdvelasq/bash-for-analytics/tree/master/) para acceder al repositorio online.\n",
    "\n",
    "Haga click [aquí](http://nbviewer.jupyter.org/github/jdvelasq/bash-for-analytics/tree/master/) para explorar el repositorio usando `nbviewer`. "
   ]
  },
  {
   "cell_type": "markdown",
   "metadata": {},
   "source": [
    "---"
   ]
  },
  {
   "cell_type": "markdown",
   "metadata": {},
   "source": [
    "# Introducción"
   ]
  },
  {
   "cell_type": "markdown",
   "metadata": {},
   "source": [
    "`sed` es un editor de flujos que puede ser usado para extraer, adicionar o reemplazar textos en un archivo. En Ciencia de los datos Resulta particularmente interesante para realizar impresión, sustitución y borrado de textos en archivos planos, que es una tarea común en procesos ETL. Cada comando es representado por una letra y el carácter `/` es usado como un delimitador.\n"
   ]
  },
  {
   "cell_type": "markdown",
   "metadata": {},
   "source": [
    "Es posible utilizar el comando 'sed' o 'sed' [Opciones]. Dichas 'opciones' consisten en una secuencia de '-' más un caracter que condiciona funcionalidades predeterminadas. El manual de `sed` puede ser consultado usando `man`."
   ]
  },
  {
   "cell_type": "markdown",
   "metadata": {},
   "source": [
    "# Visualización y transformación"
   ]
  },
  {
   "cell_type": "markdown",
   "metadata": {},
   "source": [
    "Con el siguiente comando, se imprimen los primeros 20 números enteros a un archivo."
   ]
  },
  {
   "cell_type": "code",
   "execution_count": 7,
   "metadata": {},
   "outputs": [],
   "source": [
    "seq 20 > out.1"
   ]
  },
  {
   "cell_type": "markdown",
   "metadata": {},
   "source": [
    "Para imprimir en pantalla todas las líneas que contienen un '1' se usa el comando: "
   ]
  },
  {
   "cell_type": "code",
   "execution_count": 8,
   "metadata": {
    "scrolled": false
   },
   "outputs": [
    {
     "name": "stdout",
     "output_type": "stream",
     "text": [
      "1\n",
      "10\n",
      "11\n",
      "12\n",
      "13\n",
      "14\n",
      "15\n",
      "16\n",
      "17\n",
      "18\n",
      "19\n"
     ]
    }
   ],
   "source": [
    "sed -n '/1/p'  out.1"
   ]
  },
  {
   "cell_type": "markdown",
   "metadata": {},
   "source": [
    "La opción `-n` indica que no debe imprimirse en pantalla cada línea leída del archivo `out.1`. La cadena `/1/` indica la expresión regular (en este caso que la línea contenga un `1` y los '/'  son delimitadores). La `p`  al final indica que se imprima la línea. Nóte que esta funcionalidad es similar a la dada por `grep`."
   ]
  },
  {
   "cell_type": "markdown",
   "metadata": {},
   "source": [
    "El siguiente comando imprime todas las líneas que contienen un '1' al final:"
   ]
  },
  {
   "cell_type": "code",
   "execution_count": 3,
   "metadata": {},
   "outputs": [
    {
     "name": "stdout",
     "output_type": "stream",
     "text": [
      "1\n",
      "11\n"
     ]
    }
   ],
   "source": [
    "sed -n '/1$/p'  out.1"
   ]
  },
  {
   "cell_type": "markdown",
   "metadata": {},
   "source": [
    "Para imprimir todas las líneas que contienen un '1' al inicio se usaría:"
   ]
  },
  {
   "cell_type": "code",
   "execution_count": 3,
   "metadata": {},
   "outputs": [
    {
     "name": "stdout",
     "output_type": "stream",
     "text": [
      "1,2,3,4,5,6,7,8,9,10,11,12,13,14,15,16,17,18,19,20\n"
     ]
    }
   ],
   "source": [
    "sed -n '/^1/p' out.1"
   ]
  },
  {
   "cell_type": "code",
   "execution_count": 14,
   "metadata": {},
   "outputs": [
    {
     "name": "stdout",
     "output_type": "stream",
     "text": [
      "1\n",
      "10\n",
      "11\n",
      "12\n",
      "13\n",
      "14\n",
      "15\n",
      "16\n",
      "17\n",
      "18\n",
      "19\n"
     ]
    }
   ],
   "source": [
    "perl -ne 'print if /^[1]/' out.1"
   ]
  },
  {
   "cell_type": "markdown",
   "metadata": {},
   "source": [
    "El siguiente comando imprime la tercera línea:"
   ]
  },
  {
   "cell_type": "code",
   "execution_count": 5,
   "metadata": {},
   "outputs": [
    {
     "name": "stdout",
     "output_type": "stream",
     "text": [
      "3\n"
     ]
    }
   ],
   "source": [
    "sed -n '3p' out.1"
   ]
  },
  {
   "cell_type": "markdown",
   "metadata": {},
   "source": [
    "El siguiente comando imprime de la linea 3 a la linea 6."
   ]
  },
  {
   "cell_type": "code",
   "execution_count": 6,
   "metadata": {},
   "outputs": [
    {
     "name": "stdout",
     "output_type": "stream",
     "text": [
      "3\n",
      "4\n",
      "5\n",
      "6\n"
     ]
    }
   ],
   "source": [
    "sed -n '3,6 p' out.1 "
   ]
  },
  {
   "cell_type": "markdown",
   "metadata": {},
   "source": [
    "La opción `d` de `sed` indica borrado.\n",
    "\n",
    "A continuación se requiere imprimir todos los registros excepto los contenidos entre la linea 3 y la linea 6:"
   ]
  },
  {
   "cell_type": "code",
   "execution_count": 7,
   "metadata": {},
   "outputs": [
    {
     "name": "stdout",
     "output_type": "stream",
     "text": [
      "1\n",
      "2\n",
      "7\n",
      "8\n",
      "9\n",
      "10\n",
      "11\n",
      "12\n",
      "13\n",
      "14\n",
      "15\n",
      "16\n",
      "17\n",
      "18\n",
      "19\n",
      "20\n"
     ]
    }
   ],
   "source": [
    "sed \"3,6 d\" out.1 "
   ]
  },
  {
   "cell_type": "markdown",
   "metadata": {},
   "source": [
    "De la línea 15 al final:"
   ]
  },
  {
   "cell_type": "code",
   "execution_count": 8,
   "metadata": {},
   "outputs": [
    {
     "name": "stdout",
     "output_type": "stream",
     "text": [
      "15\n",
      "16\n",
      "17\n",
      "18\n",
      "19\n",
      "20\n"
     ]
    }
   ],
   "source": [
    "sed -n '15,$ p' out.1"
   ]
  },
  {
   "cell_type": "markdown",
   "metadata": {},
   "source": [
    "La opción `-e` con `sed`  indica expresión (comando) y permite realizar comandos simultaneos; por ejemplo, imprimir todo excepto la posición 1 y 2."
   ]
  },
  {
   "cell_type": "code",
   "execution_count": 9,
   "metadata": {},
   "outputs": [
    {
     "name": "stdout",
     "output_type": "stream",
     "text": [
      "3\n",
      "4\n",
      "5\n",
      "6\n",
      "7\n",
      "8\n",
      "9\n",
      "10\n",
      "11\n",
      "12\n",
      "13\n",
      "14\n",
      "15\n",
      "16\n",
      "17\n",
      "18\n",
      "19\n",
      "20\n"
     ]
    }
   ],
   "source": [
    "sed -e 1d -e 2d out.1"
   ]
  },
  {
   "cell_type": "markdown",
   "metadata": {},
   "source": [
    "**Ejercicio.--** Para el siguiente archivo, elimine las líneas con datos faltantes, es decir, las identificadas con la cadena `NA`."
   ]
  },
  {
   "cell_type": "code",
   "execution_count": 10,
   "metadata": {},
   "outputs": [],
   "source": [
    "cat > out.1 <<EOF\n",
    "Date, Year, CustomerID, Value\n",
    "2013-01-12, 2013, 1, 100\n",
    "2014-05-12, 2014, NA, 100\n",
    "2013-02-25, 2013, 2, 200\n",
    "2013-04-04, 2013, 1, 100\n",
    "2013-06-21, 2013, 2, 200\n",
    "2014-05-12, 2014, 1, 100\n",
    "2014-05-12, 2014, NA, 200\n",
    "2013-02-28, 2013, 1, 100\n",
    "2013-08-02, 2013, NA, 100\n",
    "EOF"
   ]
  },
  {
   "cell_type": "markdown",
   "metadata": {},
   "source": [
    "---"
   ]
  },
  {
   "cell_type": "markdown",
   "metadata": {},
   "source": [
    "En el archivo generado mediante las siguientes instrucciones:"
   ]
  },
  {
   "cell_type": "code",
   "execution_count": 11,
   "metadata": {},
   "outputs": [],
   "source": [
    "cat > out.1 <<EOF\n",
    "FieldA, FieldD, FieldE, FieldG\n",
    "   2, X, 2X, 2XG\n",
    "   2, Y, 2Y, 2YG \n",
    "   3, Y, 3Y, 3YG\n",
    "   3, X, 3X, 3XG\n",
    "   4, Z, 4Z, 3XG\n",
    "EOF"
   ]
  },
  {
   "cell_type": "markdown",
   "metadata": {},
   "source": [
    "se desean cambiar las `X` por `x`."
   ]
  },
  {
   "cell_type": "markdown",
   "metadata": {},
   "source": [
    "Para ello, se emplea la opción `s` para indicar que se realizarán sustituciones de texto:"
   ]
  },
  {
   "cell_type": "code",
   "execution_count": 12,
   "metadata": {},
   "outputs": [
    {
     "name": "stdout",
     "output_type": "stream",
     "text": [
      "FieldA, FieldD, FieldE, FieldG\n",
      "   2, x, 2X, 2XG\n",
      "   2, Y, 2Y, 2YG \n",
      "   3, Y, 3Y, 3YG\n",
      "   3, x, 3X, 3XG\n",
      "   4, Z, 4Z, 3xG\n"
     ]
    }
   ],
   "source": [
    "sed 's/X/x/' out.1"
   ]
  },
  {
   "cell_type": "markdown",
   "metadata": {},
   "source": [
    "Note que solo se sustituyeron la primera ocurrencia de cada línea. Si se requieren cambiar todas las ocurrencias en cada línea se usa `g` para indicar sustitución global:"
   ]
  },
  {
   "cell_type": "code",
   "execution_count": 13,
   "metadata": {
    "scrolled": true
   },
   "outputs": [
    {
     "name": "stdout",
     "output_type": "stream",
     "text": [
      "FieldA, FieldD, FieldE, FieldG\n",
      "   2, x, 2x, 2xG\n",
      "   2, Y, 2Y, 2YG \n",
      "   3, Y, 3Y, 3YG\n",
      "   3, x, 3x, 3xG\n",
      "   4, Z, 4Z, 3xG\n"
     ]
    }
   ],
   "source": [
    "sed 's/X/x/g' out.1"
   ]
  },
  {
   "cell_type": "markdown",
   "metadata": {},
   "source": [
    "La opción `y` es útil para transformar el registro en el orden en el que se indique en la expresión regular; por ejemplo, se requiere cambiar sistemáticamente las X por x y las Y por y."
   ]
  },
  {
   "cell_type": "code",
   "execution_count": 14,
   "metadata": {},
   "outputs": [
    {
     "name": "stdout",
     "output_type": "stream",
     "text": [
      "FieldA, FieldD, FieldE, FieldG\n",
      "   2, x, 2x, 2xG\n",
      "   2, y, 2y, 2yG \n",
      "   3, y, 3y, 3yG\n",
      "   3, x, 3x, 3xG\n",
      "   4, Z, 4Z, 3xG\n"
     ]
    }
   ],
   "source": [
    "sed 'y/XY/xy/' out.1 "
   ]
  },
  {
   "cell_type": "markdown",
   "metadata": {},
   "source": [
    "Se pueden realizar sustituciones de acuerdo con las veces que se encuentre el patrón en la linea; por ejemplo, se requiere sustituir las X por el simbolo # en el archivo pero solo para la segunda columna en donde se encuentren letras X."
   ]
  },
  {
   "cell_type": "code",
   "execution_count": 15,
   "metadata": {},
   "outputs": [
    {
     "name": "stdout",
     "output_type": "stream",
     "text": [
      "FieldA, FieldD, FieldE, FieldG\n",
      "   2, X, 2#, 2XG\n",
      "   2, Y, 2Y, 2YG \n",
      "   3, Y, 3Y, 3YG\n",
      "   3, X, 3#, 3XG\n",
      "   4, Z, 4Z, 3XG\n"
     ]
    }
   ],
   "source": [
    "sed 's/X/#/2' out.1"
   ]
  },
  {
   "cell_type": "markdown",
   "metadata": {},
   "source": [
    "La opción `2g` indica que se reemplace cuando encuentre el patrón por segunda vez y en adelante."
   ]
  },
  {
   "cell_type": "code",
   "execution_count": 16,
   "metadata": {
    "scrolled": true
   },
   "outputs": [],
   "source": [
    "# Esta opción no funciona en la implementacón de sed en BSD\n",
    "# sed 's/X/xx/2g' out.1"
   ]
  },
  {
   "cell_type": "markdown",
   "metadata": {},
   "source": [
    "El simbolo `&` se usa en una expresión regular para indicar la cadena de texto reconocida. Es decir, el símbolo `&` es reemplazado por la cadena de texto reconocida; por ejemplo, se requiere tener las letras X entre llaves para la linea 5."
   ]
  },
  {
   "cell_type": "code",
   "execution_count": 17,
   "metadata": {},
   "outputs": [
    {
     "name": "stdout",
     "output_type": "stream",
     "text": [
      "FieldA, FieldD, FieldE, FieldG\n",
      "   2, X, 2X, 2XG\n",
      "   2, Y, 2Y, 2YG \n",
      "   3, Y, 3Y, 3YG\n",
      "   3, X}, 3X}, 3X}G\n",
      "   4, Z, 4Z, 3XG\n"
     ]
    }
   ],
   "source": [
    "sed '5 s/X/&}/g' out.1"
   ]
  },
  {
   "cell_type": "markdown",
   "metadata": {},
   "source": [
    "---"
   ]
  },
  {
   "cell_type": "markdown",
   "metadata": {},
   "source": [
    "Sea el siguiente archivo:"
   ]
  },
  {
   "cell_type": "code",
   "execution_count": 1,
   "metadata": {},
   "outputs": [],
   "source": [
    "cat > out.1 <<EOF\n",
    "1980-JAN-1+1:0:1.134\n",
    "1980-JAN-5+1:0:1.12\n",
    "1982-JAN-13+10:12:42.33\n",
    "EOF"
   ]
  },
  {
   "cell_type": "markdown",
   "metadata": {},
   "source": [
    "Se desea formatear la fecha y la hora, es decir, la primera línea:\n",
    "\n",
    "```\n",
    "1980-JAN-1+1:0:1.134\n",
    "```\n",
    "\n",
    "debe cambiarse por:\n",
    "\n",
    "```\n",
    "1980-JAN-01 01:00:01\n",
    "```\n"
   ]
  },
  {
   "cell_type": "markdown",
   "metadata": {},
   "source": [
    "El primer paso consiste en agregar el cero a los números de día con un solo dígito."
   ]
  },
  {
   "cell_type": "code",
   "execution_count": 5,
   "metadata": {},
   "outputs": [
    {
     "name": "stdout",
     "output_type": "stream",
     "text": [
      "1980-JAN-01+1:0:1.134\n",
      "1980-JAN-05+1:0:1.12\n",
      "1982-JAN-13+10:12:42.33\n"
     ]
    }
   ],
   "source": [
    "sed 's/-\\([0-9]\\)+/-0\\1+/' out.1 > out.2\n",
    "cat out.2"
   ]
  },
  {
   "cell_type": "markdown",
   "metadata": {},
   "source": [
    "La explicación del comando anterior es la siguiente. El patrón de entrada está conformado por los siguientes elementos:\n",
    "* El caracter '-'.\n",
    "* Un dígito entre 0 y 9 (patrón `[0-9]`). Las secuencias `\\(` y `\\)` especifican que el dígito reconocido debe recordarse. Pueden existir varias cadenas a recordar; la primera cadena es `\\1`, la segunda cadena es `\\2` y así sucesivamente.\n",
    "* El caracter `+`.\n",
    "\n",
    "El patrón de salida indica que:\n",
    "* Se imprime el caracter `-`.\n",
    "* Luego el caracter `0`.\n",
    "* A continuación el dígito reconocido `\\1`.\n"
   ]
  },
  {
   "cell_type": "markdown",
   "metadata": {},
   "source": [
    "Se reemplaza el `+` por un espacio en blanco."
   ]
  },
  {
   "cell_type": "code",
   "execution_count": 20,
   "metadata": {},
   "outputs": [
    {
     "name": "stdout",
     "output_type": "stream",
     "text": [
      "1980-JAN-01 1:0:1.134\n",
      "1980-JAN-05 1:0:1.12\n",
      "1982-JAN-13 10:12:42.33\n"
     ]
    }
   ],
   "source": [
    "sed 's/+/ /' out.2 > out.3\n",
    "cat out.3"
   ]
  },
  {
   "cell_type": "markdown",
   "metadata": {},
   "source": [
    "Se agrega el `0` a las horas. La expresión regular indica que es un espacio en blanco seguido de un dígito, seguido de `:`."
   ]
  },
  {
   "cell_type": "code",
   "execution_count": 21,
   "metadata": {},
   "outputs": [
    {
     "name": "stdout",
     "output_type": "stream",
     "text": [
      "1980-JAN-01 01:0:1.134\n",
      "1980-JAN-05 01:0:1.12\n",
      "1982-JAN-13 10:12:42.33\n"
     ]
    }
   ],
   "source": [
    "sed 's/ \\([0-9]\\):/ 0\\1:/' out.3 > out.4\n",
    "cat out.4"
   ]
  },
  {
   "cell_type": "markdown",
   "metadata": {},
   "source": [
    "Se agrega el `0` a los minutos."
   ]
  },
  {
   "cell_type": "code",
   "execution_count": 22,
   "metadata": {},
   "outputs": [
    {
     "name": "stdout",
     "output_type": "stream",
     "text": [
      "1980-JAN-01 01:00:1.134\n",
      "1980-JAN-05 01:00:1.12\n",
      "1982-JAN-13 10:12:42.33\n"
     ]
    }
   ],
   "source": [
    "sed 's/:\\([0-9]\\):/:0\\1:/' out.4 > out.5\n",
    "cat out.5"
   ]
  },
  {
   "cell_type": "markdown",
   "metadata": {},
   "source": [
    "Se agrega el `0` a los segundos."
   ]
  },
  {
   "cell_type": "code",
   "execution_count": 23,
   "metadata": {},
   "outputs": [
    {
     "name": "stdout",
     "output_type": "stream",
     "text": [
      "1980-JAN-01 01:00:01.134\n",
      "1980-JAN-05 01:00:01.12\n",
      "1982-JAN-13 10:12:42.33\n"
     ]
    }
   ],
   "source": [
    "sed 's/:\\([0-9]\\)\\./:0\\1./' out.5 > out.6\n",
    "cat out.6"
   ]
  },
  {
   "cell_type": "markdown",
   "metadata": {},
   "source": [
    "Se elimina la parte decimal de los segundos"
   ]
  },
  {
   "cell_type": "code",
   "execution_count": 24,
   "metadata": {
    "scrolled": true
   },
   "outputs": [
    {
     "name": "stdout",
     "output_type": "stream",
     "text": [
      "1980-JAN-01 01:00:01\n",
      "1980-JAN-05 01:00:01\n",
      "1982-JAN-13 10:12:42\n"
     ]
    }
   ],
   "source": [
    "sed 's/\\.[0-9][0-9]*//' out.6 > out.7\n",
    "cat out.7"
   ]
  },
  {
   "cell_type": "markdown",
   "metadata": {},
   "source": [
    "La notación `\\.[0-9][0-9]*` indica que el patrón es un punto (`\\.`) seguido de un dígito (`[0-9]`), seguido de cero, uno o más dígitos (`[0-9]*`)."
   ]
  },
  {
   "cell_type": "markdown",
   "metadata": {},
   "source": [
    "---"
   ]
  },
  {
   "cell_type": "markdown",
   "metadata": {},
   "source": [
    "Sea el siguiente archivo:"
   ]
  },
  {
   "cell_type": "code",
   "execution_count": 25,
   "metadata": {},
   "outputs": [],
   "source": [
    "cat > out.1 <<EOF\n",
    "Angelica Montes 2541122 SI\n",
    "Diana Castro 4223647 SI\n",
    "Gerardo Lopez 5447996 NO\n",
    "\n",
    "EOF"
   ]
  },
  {
   "cell_type": "markdown",
   "metadata": {},
   "source": [
    "\n",
    "* La función `sed` junto con la opción `i`, permiten agregar lineas **antes** de un texto que es reconocido mediante expresión regular. De la misma forma, la opción `a` permite agregar lineas **después** del texto reconocido.\n",
    "\n",
    "\n",
    "* La función `sed` junto con la opción `c`, permiten cambiar la información de un registro que cumpla un patrón específico. "
   ]
  },
  {
   "cell_type": "markdown",
   "metadata": {},
   "source": [
    "Se requiere incluir antes del registro `Diana Castro`, la siguiente información:\n",
    "\n",
    "`Camilo Fernandez 6114432 SI`"
   ]
  },
  {
   "cell_type": "code",
   "execution_count": 26,
   "metadata": {
    "scrolled": true
   },
   "outputs": [
    {
     "name": "stdout",
     "output_type": "stream",
     "text": [
      "Angelica Montes 2541122 SI\n",
      " Camilo Fernandez 6114432 SI/\n",
      "Diana Castro 4223647 SI\n",
      "Gerardo Lopez 5447996 NO\n",
      "\n"
     ]
    }
   ],
   "source": [
    "#Esta opción no funciona en sed de BSD\n",
    "sed '/Diana/ i\\ Camilo Fernandez 6114432 SI/' out.1"
   ]
  },
  {
   "cell_type": "markdown",
   "metadata": {},
   "source": [
    "Se requiere cambiar el registro `Diana Castro` por la siguiente información:\n",
    "\n",
    "`Camilo Fernandez 6114432 SI`"
   ]
  },
  {
   "cell_type": "code",
   "execution_count": 27,
   "metadata": {},
   "outputs": [
    {
     "name": "stdout",
     "output_type": "stream",
     "text": [
      "Angelica Montes 2541122 SI\n",
      "Camilo Fernandez 6114432 SI\n",
      "Gerardo Lopez 5447996 NO\n",
      "\n"
     ]
    }
   ],
   "source": [
    "#Esta opción no funciona en sed de BSD\n",
    "sed '/Diana/ c Camilo Fernandez 6114432 SI' out.1"
   ]
  },
  {
   "cell_type": "markdown",
   "metadata": {},
   "source": [
    "---"
   ]
  },
  {
   "cell_type": "markdown",
   "metadata": {},
   "source": [
    "Sea el siguiente archivo:"
   ]
  },
  {
   "cell_type": "code",
   "execution_count": 28,
   "metadata": {},
   "outputs": [],
   "source": [
    "cat > out.1 <<EOF\n",
    "Date, Year, CustomerID, Value\n",
    "2013-01-12, 2013, 1, 100\n",
    "2014-05-12, 2014, 1, 100\n",
    "2013-02-25, 2013, 2, 200\n",
    "2013-04-04, 2013, 1, 100\n",
    "2013-06-21, 2013, 2, 200\n",
    "2014-05-12, 2014, 12, 100\n",
    "2014-05-12, 2014, 2, 200\n",
    "2013-02-28, 2013, 11, 100\n",
    "2013-08-02, 2013, 1, 100\n",
    "EOF"
   ]
  },
  {
   "cell_type": "markdown",
   "metadata": {},
   "source": [
    "Se desea agregar un nuevo campo llamado `Year-CoustomerID` que contiene una clave compuesta conformada por la concatenación de estos dos campos; por ejemplo, el valor para el primer registro sería `2013-1`. El siguiente comando hace el cambio del reglón dos en adelante:"
   ]
  },
  {
   "cell_type": "code",
   "execution_count": 29,
   "metadata": {},
   "outputs": [
    {
     "name": "stdout",
     "output_type": "stream",
     "text": [
      "Date, Year, CustomerID, Value\n",
      "2013-01-12, 2013, 1, 2013-1, 100\n",
      "2014-05-12, 2014, 1, 2014-1, 100\n",
      "2013-02-25, 2013, 2, 2013-2, 200\n",
      "2013-04-04, 2013, 1, 2013-1, 100\n",
      "2013-06-21, 2013, 2, 2013-2, 200\n",
      "2014-05-12, 2014, 12, 2014-12, 100\n",
      "2014-05-12, 2014, 2, 2014-2, 200\n",
      "2013-02-28, 2013, 11, 2013-11, 100\n",
      "2013-08-02, 2013, 1, 2013-1, 100\n"
     ]
    }
   ],
   "source": [
    "sed 's/ \\([0-9][0-9][0-9][0-9]\\), \\([0-9]*\\)/ \\1, \\2, \\1-\\2/' out.1 > out.2\n",
    "cat out.2"
   ]
  },
  {
   "cell_type": "markdown",
   "metadata": {},
   "source": [
    "Para realizar el cambio en la primera línea (el encabezado) se usaría el siguiente comando:"
   ]
  },
  {
   "cell_type": "code",
   "execution_count": 30,
   "metadata": {},
   "outputs": [
    {
     "name": "stdout",
     "output_type": "stream",
     "text": [
      "Date, Year, CustomerID, Year-CustomerID, Value\n",
      "2013-01-12, 2013, 1, 2013-1, 100\n",
      "2014-05-12, 2014, 1, 2014-1, 100\n",
      "2013-02-25, 2013, 2, 2013-2, 200\n",
      "2013-04-04, 2013, 1, 2013-1, 100\n",
      "2013-06-21, 2013, 2, 2013-2, 200\n",
      "2014-05-12, 2014, 12, 2014-12, 100\n",
      "2014-05-12, 2014, 2, 2014-2, 200\n",
      "2013-02-28, 2013, 11, 2013-11, 100\n",
      "2013-08-02, 2013, 1, 2013-1, 100\n"
     ]
    }
   ],
   "source": [
    "sed 's/\\([a-zA-Z]*\\), \\([a-zA-Z]*\\), \\([a-zA-Z]*\\), \\([a-zA-Z]*\\)/\\1, \\2, \\3, \\2-\\3, \\4/' out.2"
   ]
  },
  {
   "cell_type": "markdown",
   "metadata": {},
   "source": [
    "---"
   ]
  },
  {
   "cell_type": "markdown",
   "metadata": {},
   "source": [
    "**Ejercicio.--** Convierta el formato de las fechas de `D/M/Y` a `YYYY-MM-DD` en los archivos `order*`."
   ]
  },
  {
   "cell_type": "markdown",
   "metadata": {},
   "source": [
    "**Ejercicio.--** Agregue dos nuevos campos al archivo `order`; el primer campo corresponde al mes y el segundo al año. "
   ]
  },
  {
   "cell_type": "markdown",
   "metadata": {},
   "source": [
    "**Ejercicio.--** Elimine del archivo `person` todos los registros de las personas  que hayan nacido después del año `1980`."
   ]
  },
  {
   "cell_type": "markdown",
   "metadata": {},
   "source": [
    "---"
   ]
  },
  {
   "cell_type": "markdown",
   "metadata": {},
   "source": [
    "### Borrado de los archivos temporales creados"
   ]
  },
  {
   "cell_type": "code",
   "execution_count": 31,
   "metadata": {},
   "outputs": [],
   "source": [
    "rm out.*"
   ]
  },
  {
   "cell_type": "markdown",
   "metadata": {},
   "source": [
    "---"
   ]
  },
  {
   "cell_type": "markdown",
   "metadata": {},
   "source": [
    "Sed\n",
    "===\n",
    "\n",
    "**Juan David Velásquez Henao**  \n",
    "jdvelasq@unal.edu.co   \n",
    "Universidad Nacional de Colombia, Sede Medellín  \n",
    "Facultad de Minas  \n",
    "Medellín, Colombia\n",
    "\n",
    "---\n",
    "\n",
    "Haga click [aquí](https://github.com/jdvelasq/bash-for-analytics/tree/master/) para acceder al repositorio online.\n",
    "\n",
    "Haga click [aquí](http://nbviewer.jupyter.org/github/jdvelasq/bash-for-analytics/tree/master/) para explorar el repositorio usando `nbviewer`. "
   ]
  }
 ],
 "metadata": {
  "kernelspec": {
   "display_name": "Bash",
   "language": "bash",
   "name": "bash"
  },
  "language_info": {
   "codemirror_mode": "shell",
   "file_extension": ".sh",
   "mimetype": "text/x-sh",
   "name": "bash"
  }
 },
 "nbformat": 4,
 "nbformat_minor": 2
}
