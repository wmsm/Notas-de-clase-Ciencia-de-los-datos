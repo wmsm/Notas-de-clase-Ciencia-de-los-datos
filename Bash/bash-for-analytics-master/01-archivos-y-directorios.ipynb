{
 "cells": [
  {
   "cell_type": "markdown",
   "metadata": {},
   "source": [
    "Archivos y Directorios\n",
    "===\n",
    "\n",
    "**Juan David Velásquez Henao**  \n",
    "jdvelasq@unal.edu.co   \n",
    "Universidad Nacional de Colombia, Sede Medellín  \n",
    "Facultad de Minas  \n",
    "Medellín, Colombia\n",
    "\n",
    "---\n",
    "\n",
    "Haga click [aquí](https://github.com/jdvelasq/bash-for-analytics/tree/master/) para acceder al repositorio online.\n",
    "\n",
    "Haga click [aquí](http://nbviewer.jupyter.org/github/jdvelasq/Bash-for-analytics/tree/master/) para explorar el repositorio usando `nbviewer`. "
   ]
  },
  {
   "cell_type": "markdown",
   "metadata": {},
   "source": [
    "---"
   ]
  },
  {
   "cell_type": "markdown",
   "metadata": {},
   "source": [
    "**Bibliografía**.\n",
    "\n",
    "> [1] D. Cross. Data Munging with Perl. Maning Publications Co. 2001\n",
    "\n",
    "> [2] S. Redmond. Mastering QlikView. Packs Publishing, 2014.\n",
    "\n",
    "> [3] T. Meyr. Apple® Automator with AppleScript® Bible. Wiley Publishing, Inc., Indianapolis, Indiana, 2010.\n",
    "\n",
    "> [4] C. Albing, JP Vossen and C. Newham. Bash cookbook. O'Reilly, Media Inc. 2007. \n",
    "\n",
    "> [5] E. S. Raymond, The Art of Unix Programming. Addison-Wesley, 2004.\n",
    "\n",
    "> [6] K. McElhearn. The Mac OS X Command Line: Unix under the hood. Ibex, 2005.\n",
    "\n",
    "> [7] R. K. Michael. Mastering Unix Shell Scripting. Wiley, 2003."
   ]
  },
  {
   "cell_type": "markdown",
   "metadata": {},
   "source": [
    "**Recursos adicionales de aprendizaje**\n",
    "\n",
    "> [The Command Line Crash Course](http://cli.learncodethehardway.org/book/) \n",
    "\n",
    "> [The Linux Command Line](http://linuxcommand.org/tlcl.php) By William Shotts\n",
    "\n",
    "> [Learn Enough Command Line to Be Dangerous](https://www.learnenough.com/command-line-tutorial#sec-grepping) by Michael Hart\n",
    "\n",
    "> [Data Science at the Command Line](http://datascienceatthecommandline.com) by Jeroen Janssens\n",
    "\n",
    "> [The Mac OS X Command Line: Unix Under the Hood](http://www.wiley.com/WileyCDA/WileyTitle/productCd-0782143547.html) by Kirk McElhearn"
   ]
  },
  {
   "cell_type": "markdown",
   "metadata": {},
   "source": [
    "---"
   ]
  },
  {
   "cell_type": "markdown",
   "metadata": {},
   "source": [
    "# Introducción"
   ]
  },
  {
   "cell_type": "markdown",
   "metadata": {},
   "source": [
    "El proceso de transformación de datos se refiere a la tarea de convertir los datos de un formato a otro [1], el cual incluye las fases de:\n",
    "\n",
    "*\tInspección – determinación de las características como el formato y otras propiedades.\n",
    "*\tLectura – carga correcta de los datos.\n",
    "*\tFiltrado – selección del subconjunto de datos de interés.\n",
    "*\tTransformación – modificación de los datos como tal.\n",
    "\n",
    "La transformación de datos es una de las fases principales en la ciencia de los datos y la analítica, y está directamente vinculada a los procesos ETL (Extract-Transform-Load).  Por ETL se hace referencia los procesos requeridos para la extracción de datos provenientes de diferentes fuentes y con distintos formatos, la transformación para su unificación en un solo formato estándar y la carga a un sistema de información (que usualmente es una base de datos).   \n"
   ]
  },
  {
   "cell_type": "markdown",
   "metadata": {},
   "source": [
    "El proceso de transformación de datos incluye, entre otras, las siguientes actividades [2]:\n",
    "\n",
    "*\tRemoción de datos innecesarios o repetidos.\n",
    "*\tReducción del número de filas o registros por eliminación o por agregación.\n",
    "*\tReducción del número de campos o columnas.\n",
    "*\tReemplazo o construcción de claves.\n",
    "*\tCreación de nuevos campos o columnas.\n"
   ]
  },
  {
   "cell_type": "markdown",
   "metadata": {},
   "source": [
    "Estos procesos suelen ser repetitivos e involucran, usualmente, una cantidad importante de datos, de tal forma que pueden resultar muy dispendiosos, tediosos o prácticamente imposibles de realizar manualmente. Es así como una tarea tan simple como renombrar un archivo se vuelve abrumadora cuando se deben renombrar 1.000 o 10.000 archivos. En este sentido, la automatización de estas tareas trae múltiples beneficios al usuario, entre los que se encuentran [3]:\n",
    "\n",
    "*\tEl agilizar tareas simples que consumen una gran cantidad de tiempo.\n",
    "*\tLa eliminación de la posibilidad de errores debidos a la ejecución manual de un proceso (por un humano).\n",
    "*\tUna mayor cantidad de tiempo para realizar otras actividades de corte intelectual.\n"
   ]
  },
  {
   "cell_type": "markdown",
   "metadata": {},
   "source": [
    "Este documento aborda la transformación de datos almacenados en archivos de texto mediante el uso de la consola de comandos o shell, la cual es una interfaz para dar comandos al sistema operativo Unix (incluyendo Linux y OS X) [4] digitando texto. La idoneidad de la shell para la transformación de archivos de texto proviene de la filosofía de diseño del sistema operativo Unix, según la cual, el sistema operativo debe estar conformado por una gran cantidad de pequeños programas con objetivos bien definidos y por el intercambio de información entre programas a través de texto plano [5]. Ya que el texto plano es el lenguaje universal entre programas escritos en diferentes lenguajes, las herramientas del sistema operativo operan limpiamente entre si. Adicionalmente, el diseño de una gran cantidad de herramientas del sistema operativo fue realizado para leer una porción de la entrada (por ejemplo, una línea de un archivo de texto) y procesarla, sin tener que cargar todo el archivo en memoria; eso hace, que se puedan procesar archivos con millones de registros sin problemas."
   ]
  },
  {
   "cell_type": "markdown",
   "metadata": {},
   "source": [
    "Bash es en si mismo tanto una shell de comandos como un lenguaje de programación para la automatización de procesos [4].  En el contexto de la ciencia de los datos resulta particularmente interesante, ya que:\n",
    "\n",
    "* Permite la gestión de archivos planos de texto (creación, transformación y borrado) en el contexto de los procesos ETL (extracción, transformación y carga de datos). \n",
    "* Permite la creación de herramientas  ETL escritas en lenguajes de programación de alto nivel (como Perl, Python, Ruby o R) que pueden integrarse directamente con otras herramientas del sistema operativo.\n",
    "* Sistemas como Hadoop corren sobre Unix, y por tanto, el usuario requiere unos conocimientos mínimos sobre Bash para interactuar con estos sistemas. \n",
    "* La línea de comandos es fácilmente programable y permite hacer tareas complejas usando comandos simples; en oposición, programas equivalentes en los lenguajes R o Python que hagan las mismas tareas podrían tener muchas más líneas de código.\n"
   ]
  },
  {
   "cell_type": "markdown",
   "metadata": {},
   "source": [
    "Para ejemplificar el tipo de tareas que se pueden realizar fácilmente en la línea de comandos, suponga que tiene un archivo separado por comas (CSV) llamado datos.csv con dos millones de filas cuya cabecera se presenta a continuación:\n",
    "\n",
    "\n",
    "    fecha,placa,ciudad,valor\n",
    "    2015-05-03,IAY184,medellin,20040\n",
    "    2016-01-03,TYE765,medellin,75645\n",
    "    2014-03-25,RET145,cali,472277\n",
    "    2014-03-23,IAY184,cali,28848\n",
    "    2013-05-23,UYA435,cali,284663\n",
    "    2010-02-26,TTE234,manizales,3456\n"
   ]
  },
  {
   "cell_type": "markdown",
   "metadata": {},
   "source": [
    "Entre las tareas comunes de extracción, transformación y carga de datos que pueden realizarse se encuentran las siguientes:\n",
    "\n",
    "*\tContar la cantidad de registros por año. \n",
    "*\tCalcular los subtotales por año y mes de la columna valor.\n",
    "*\tExtraer los registros para una determinada ciudad a otro archivo.\n",
    "*\tGenerar una lista ordenada de las ciudades que aparecen en el archivo.\n",
    "*\tDeterminar entre que fechas se encuentra la muestra.\n",
    "*\tOrdenar el archivo por fecha.\n",
    "*\t(y muchas otras preguntas posibles)\n"
   ]
  },
  {
   "cell_type": "markdown",
   "metadata": {},
   "source": [
    "Estas tareas son fácilmente realizables usando la línea de comandos de Linux. Por ejemplo, el comando \n",
    "\n",
    "```\n",
    "-bash-3.2$ grep ^2015 datos.csv\n",
    "```\n",
    "\n",
    "permite imprimir en pantalla los registros del año 2015; para grabar los resultados en el archivo 2015.csv  solo es necesario modificar ligeramente el comando anterior:\n",
    "\n",
    "```\n",
    "-bash-3.2$ grep ^2015 datos.csv > 2015.csv\n",
    "```\n"
   ]
  },
  {
   "cell_type": "markdown",
   "metadata": {
    "slideshow": {
     "slide_type": "slide"
    }
   },
   "source": [
    "El objetivo de este documento es presentar y ejemplificar los principales comandos del sistema operativo Unix para la transformación de archivos de texto y la automatización de estas tareas mediante el uso de scripts. Este documento difiere en gran medida de muchos otros textos sobre Bash en que está orientado a la transformación de datos, mientras que la gran cantidad de literatura existente se focaliza mayormente en tareas de gestión y administración del sistema operativo; véase, por ejemplo, las referencias [6] y [7]. "
   ]
  },
  {
   "cell_type": "markdown",
   "metadata": {},
   "source": [
    "Al finalizar este documento, el lector estará en capacidad de:\n",
    "\n",
    "*\tVisualizar una porción o el total de un archivo.\n",
    "*\tRenombrar, copiar y mover archivos.\n",
    "*\tGenerar nuevos archivos a partir del contenido de otros archivos.\n",
    "*\tEscribir programas en Bash de complejidad baja y media."
   ]
  },
  {
   "cell_type": "markdown",
   "metadata": {},
   "source": [
    "---"
   ]
  },
  {
   "cell_type": "markdown",
   "metadata": {},
   "source": [
    "# Acceso a la terminal de comandos"
   ]
  },
  {
   "cell_type": "markdown",
   "metadata": {},
   "source": [
    "Para acceder al terminal de comandos haga lo siguiente:"
   ]
  },
  {
   "cell_type": "markdown",
   "metadata": {},
   "source": [
    "* En Mac OS X, digite `Cmd + Space` para acceder a Spotligth, digite `terminal` y finalmente `Enter`."
   ]
  },
  {
   "cell_type": "markdown",
   "metadata": {},
   "source": [
    "* En Ubuntu, digite  `Ctrl + Alt + T`."
   ]
  },
  {
   "cell_type": "markdown",
   "metadata": {},
   "source": [
    "* La versión de 64 bits de Microsoft Windows instala una versión de Bash. Haga click [aquí](https://msdn.microsoft.com/en-us/commandline/wsl/install_guide) para obtener instrucciones sobre cómo habilitarlo.   "
   ]
  },
  {
   "cell_type": "markdown",
   "metadata": {},
   "source": [
    "# Obtención de ayuda con `man`"
   ]
  },
  {
   "cell_type": "markdown",
   "metadata": {},
   "source": [
    "El prompt de comandos proporcional un manual en línea sobre los comandos del sistema. Para obtener ayuda en línea sobre un determinado comando digite: \n",
    "\n",
    "`    man` *`comando`*\n",
    "\n",
    "donde *`comando`* es el comando de interés. Para salir de la ayuda digite `q`."
   ]
  },
  {
   "cell_type": "markdown",
   "metadata": {},
   "source": [
    "# Gestión del sistema de directorios y archivos"
   ]
  },
  {
   "cell_type": "markdown",
   "metadata": {},
   "source": [
    "En Unix, Linux y OS X, el sistema de archivos está organizado en una estructura de árbol cuyo directorio  inicial es **`/`**. A partir de este directorio se desprenden varios subdirectorios predefinidos que están organizados de acuerdo a sus funciones y cuyos nombres y organización dependen de cada sistema operativo particular (Haga click [aquí](https://en.wikipedia.org/wiki/Unix_filesystem) para ver una descripción general del sistema de archivos). Por ejemplo, en el caso de Mac OS X,  el directorio de trabajo del usuario `jdvelasq` aparece como\n",
    "\n",
    "\n",
    "``` \n",
    "/Users/jdvelasq\n",
    "```\n",
    "\n",
    "\n",
    "(note el `/` inicial). Si existe un archivo llamado `notas.txt` en el directorio de trabajo de dicho usuario, entonces la dirección absoluta de dicho archivo es\n",
    "\n",
    "```\n",
    "/Users/jdvelasq/notas.txt\n",
    "```\n",
    "\n",
    "Existen varias convenciones para referirse a un archivo  de forma relativa:\n",
    "\n",
    "*\t`~` indica el directorio de trabajo del usuario actual, tal que el archivo anterior podría referenciarse como `~/notas.txt`.  Aquí `~` indica `/Users/jdvelasq`.\n",
    "*\t`notas.txt` hace referencia al archivo con ese nombre ubicado en el directorio actual.\n",
    "*\t`datos/notas.txt`  corresponde al archivo `notas.txt` ubicado en la subcarpeta datos de la capeta actual.\n",
    "*\t`/datos/notas.txt` se refiere al archivo con ese nombre ubicado en la carpeta datos de la raíz del sistema (no en la carpeta actual). \n",
    "*\tEn algunos casos es necesario referenciar al archivo `notas.txt` que se encuentra en el directorio actual como `./notas.txt`.\n"
   ]
  },
  {
   "cell_type": "markdown",
   "metadata": {},
   "source": [
    "## Determinación del directorio actual con `pwd`  "
   ]
  },
  {
   "cell_type": "markdown",
   "metadata": {},
   "source": [
    "El comando `pwd` devuelve el nombre del directorio actual de trabajo."
   ]
  },
  {
   "cell_type": "code",
   "execution_count": 1,
   "metadata": {},
   "outputs": [
    {
     "name": "stdout",
     "output_type": "stream",
     "text": [
      "/Volumes/JetDrive/GitHub/Bash-for-data-science\n"
     ]
    }
   ],
   "source": [
    "pwd"
   ]
  },
  {
   "cell_type": "markdown",
   "metadata": {},
   "source": [
    "## Listado del contenido de un directorio con `ls`"
   ]
  },
  {
   "cell_type": "markdown",
   "metadata": {},
   "source": [
    "El comando `ls` imprime el nombre de los archivos y directorios existentes dentro del directorio de trabajo."
   ]
  },
  {
   "cell_type": "code",
   "execution_count": 2,
   "metadata": {},
   "outputs": [
    {
     "name": "stdout",
     "output_type": "stream",
     "text": [
      "\u001b[35m01-archivos-y-directorios.ipynb\u001b[39;49m\u001b[0m \u001b[32mBash\u001b[39;49m\u001b[0m\n",
      "\u001b[35m02-uso-interactivo.ipynb\u001b[39;49m\u001b[0m        LICENSE\n",
      "03-sed.ipynb                    \u001b[36mquiz-moodle\u001b[39;49m\u001b[0m\n",
      "04-awk.ipynb                    readme.md\n",
      "05-sql.ipynb                    \u001b[36mxxx\u001b[39;49m\u001b[0m\n",
      "06-programacion.ipynb\n"
     ]
    }
   ],
   "source": [
    "ls"
   ]
  },
  {
   "cell_type": "markdown",
   "metadata": {},
   "source": [
    "La opción `-l` del comando `ls` imprime información detallada del contenido del directorio de trabajo y sus respectivos permisos. "
   ]
  },
  {
   "cell_type": "code",
   "execution_count": 3,
   "metadata": {},
   "outputs": [
    {
     "name": "stdout",
     "output_type": "stream",
     "text": [
      "total 1040\n",
      "-rwxr-xr-x   1 jdvelasq  staff   30816 Jan 23 16:07 \u001b[35m01-archivos-y-directorios.ipynb\u001b[39;49m\u001b[0m\n",
      "-rwxr-xr-x   1 jdvelasq  staff   60024 Nov 29 09:27 \u001b[35m02-uso-interactivo.ipynb\u001b[39;49m\u001b[0m\n",
      "-rw-r--r--   1 jdvelasq  staff   29469 Jan 23 11:11 03-sed.ipynb\n",
      "-rw-r--r--   1 jdvelasq  staff   25142 Jan 23 11:11 04-awk.ipynb\n",
      "-rw-r--r--@  1 jdvelasq  staff  305564 Nov 17 15:20 05-sql.ipynb\n",
      "-rw-r--r--   1 jdvelasq  staff   59983 Nov 29 09:27 06-programacion.ipynb\n",
      "drwxrwxrwx   6 jdvelasq  staff     204 Dec 28  2014 \u001b[32mBash\u001b[39;49m\u001b[0m\n",
      "-rw-r--r--   1 jdvelasq  staff    1084 Sep  5 07:40 LICENSE\n",
      "drwxr-xr-x  69 jdvelasq  staff    2346 Aug 26 12:36 \u001b[36mquiz-moodle\u001b[39;49m\u001b[0m\n",
      "-rw-r--r--   1 jdvelasq  staff    2040 Dec  7 16:27 readme.md\n",
      "drwxr-xr-x  43 jdvelasq  staff    1462 Jan 23 11:47 \u001b[36mxxx\u001b[39;49m\u001b[0m\n"
     ]
    }
   ],
   "source": [
    "ls -l"
   ]
  },
  {
   "cell_type": "markdown",
   "metadata": {},
   "source": [
    "Al principio de cada línea hay una cadena de diez caracteres, por ejemplo `-rw-r--r--`. El primer carácter indica si el elemento es un archivo (`-`) o un directorio (`d`). Luego siguen tres grupos de tres caracteres que indican: \n",
    "\n",
    "* Permisos de usuario.\n",
    "* Permisos de grupo.\n",
    "* Otros permisos.\n",
    "\n",
    "En su orden, los tres caracteres de cada grupo representan lo siguiente: \n",
    "\n",
    "* Si el archivo tiene permiso de lectura (`r`) o no (`-`). \n",
    "* Si el archivo tiene permiso de escritura (`w`) o no (`-`).\n",
    "* Si el archivo es ejecutable (`x`) o no (`-`); consulte la ayuda de `ls` para obtener más opciones.\n",
    "\n",
    "Por ejemplo, la cadena `-rwxr-xr-x` indica que el elemento es un archivo (`-`), que el usuario (dueño) tiene permisos de lectura y escritura (`rw`), que el archivo es ejecutable (`x`) y que otros usuarios solo pueden leerlo (`r--`).  \n",
    "\n"
   ]
  },
  {
   "cell_type": "markdown",
   "metadata": {},
   "source": [
    "## Creación de directorios con `mkdir`  "
   ]
  },
  {
   "cell_type": "markdown",
   "metadata": {},
   "source": [
    "El comando `mkdir` *`nombredir`* crea el directorio llamado *`nombredir`* dentro del directorio actual."
   ]
  },
  {
   "cell_type": "code",
   "execution_count": 4,
   "metadata": {
    "collapsed": true,
    "scrolled": true
   },
   "outputs": [],
   "source": [
    "mkdir data"
   ]
  },
  {
   "cell_type": "markdown",
   "metadata": {},
   "source": [
    "Para visualizar el contenido del directorio `data` (que está vacío) se utiliza igualmente el comando `ls`."
   ]
  },
  {
   "cell_type": "code",
   "execution_count": 5,
   "metadata": {
    "collapsed": true,
    "scrolled": true
   },
   "outputs": [],
   "source": [
    "ls -l ./data # no imprime nada porque el directorio './data' está vacío."
   ]
  },
  {
   "cell_type": "markdown",
   "metadata": {},
   "source": [
    "## Cambio del directorio actual con `cd` "
   ]
  },
  {
   "cell_type": "markdown",
   "metadata": {},
   "source": [
    "Para moverse entre la estructura de directorios se usa el comando `cd`. \n",
    "\n",
    "`cd` *`nombredir`* permite moverse al directorio *`nombredir`* mientras que `cd ..` permite subir al directorio padre. "
   ]
  },
  {
   "cell_type": "code",
   "execution_count": 6,
   "metadata": {
    "collapsed": true,
    "scrolled": true
   },
   "outputs": [],
   "source": [
    "cd data  "
   ]
  },
  {
   "cell_type": "code",
   "execution_count": 7,
   "metadata": {},
   "outputs": [
    {
     "name": "stdout",
     "output_type": "stream",
     "text": [
      "/Volumes/JetDrive/GitHub/Bash-for-data-science/data\n"
     ]
    }
   ],
   "source": [
    "pwd "
   ]
  },
  {
   "cell_type": "markdown",
   "metadata": {},
   "source": [
    "Ahora, sube al directorio padre"
   ]
  },
  {
   "cell_type": "code",
   "execution_count": 8,
   "metadata": {},
   "outputs": [
    {
     "name": "stdout",
     "output_type": "stream",
     "text": [
      "/Volumes/JetDrive/GitHub/Bash-for-data-science\n"
     ]
    }
   ],
   "source": [
    "cd .. \n",
    "pwd"
   ]
  },
  {
   "cell_type": "markdown",
   "metadata": {},
   "source": [
    "Al listar el contenido del directorio actual aparece el nuevo directorio `data`."
   ]
  },
  {
   "cell_type": "code",
   "execution_count": 9,
   "metadata": {},
   "outputs": [
    {
     "name": "stdout",
     "output_type": "stream",
     "text": [
      "total 1040\n",
      "-rwxr-xr-x   1 jdvelasq  staff   30816 Jan 23 16:07 \u001b[35m01-archivos-y-directorios.ipynb\u001b[39;49m\u001b[0m\n",
      "-rwxr-xr-x   1 jdvelasq  staff   60024 Nov 29 09:27 \u001b[35m02-uso-interactivo.ipynb\u001b[39;49m\u001b[0m\n",
      "-rw-r--r--   1 jdvelasq  staff   29469 Jan 23 11:11 03-sed.ipynb\n",
      "-rw-r--r--   1 jdvelasq  staff   25142 Jan 23 11:11 04-awk.ipynb\n",
      "-rw-r--r--@  1 jdvelasq  staff  305564 Nov 17 15:20 05-sql.ipynb\n",
      "-rw-r--r--   1 jdvelasq  staff   59983 Nov 29 09:27 06-programacion.ipynb\n",
      "drwxrwxrwx   6 jdvelasq  staff     204 Dec 28  2014 \u001b[32mBash\u001b[39;49m\u001b[0m\n",
      "-rw-r--r--   1 jdvelasq  staff    1084 Sep  5 07:40 LICENSE\n",
      "drwxr-xr-x   2 jdvelasq  staff      68 Jan 23 16:08 \u001b[36mdata\u001b[39;49m\u001b[0m\n",
      "drwxr-xr-x  69 jdvelasq  staff    2346 Aug 26 12:36 \u001b[36mquiz-moodle\u001b[39;49m\u001b[0m\n",
      "-rw-r--r--   1 jdvelasq  staff    2040 Dec  7 16:27 readme.md\n",
      "drwxr-xr-x  43 jdvelasq  staff    1462 Jan 23 11:47 \u001b[36mxxx\u001b[39;49m\u001b[0m\n"
     ]
    }
   ],
   "source": [
    "ls -l  "
   ]
  },
  {
   "cell_type": "markdown",
   "metadata": {},
   "source": [
    "`cd` admite direcciones absolutas; por ejemplo, `cd ~` y `cd /Users/jdvelasq`  permiten ir al directorio raíz del usuario. "
   ]
  },
  {
   "cell_type": "markdown",
   "metadata": {},
   "source": [
    "## Eliminación de directorios con `rmdir`"
   ]
  },
  {
   "cell_type": "markdown",
   "metadata": {
    "collapsed": true
   },
   "source": [
    "El comando `rmdir` *`nombredir`* borra el directorio *`nombredir`*. El directorio debe estar vacío para poder borrarlo."
   ]
  },
  {
   "cell_type": "code",
   "execution_count": 10,
   "metadata": {
    "collapsed": true,
    "scrolled": true
   },
   "outputs": [],
   "source": [
    "rmdir ./data"
   ]
  },
  {
   "cell_type": "markdown",
   "metadata": {},
   "source": [
    "## Creación de archivos vacíos con `touch`"
   ]
  },
  {
   "cell_type": "markdown",
   "metadata": {},
   "source": [
    "El comando `touch` permite modificar las fechas de creación y acceso de un archivo. Puede ser usado para la creación de archivos ya que si dicho archivo no existe, `touch` lo crea.  "
   ]
  },
  {
   "cell_type": "code",
   "execution_count": 11,
   "metadata": {
    "collapsed": true
   },
   "outputs": [],
   "source": [
    "# crea el archivo out.1\n",
    "touch out.1"
   ]
  },
  {
   "cell_type": "code",
   "execution_count": 12,
   "metadata": {
    "scrolled": true
   },
   "outputs": [
    {
     "name": "stdout",
     "output_type": "stream",
     "text": [
      "-rw-r--r--  1 jdvelasq  staff  0 Jan 23 16:08 out.1\n"
     ]
    }
   ],
   "source": [
    "ls -l out*"
   ]
  },
  {
   "cell_type": "markdown",
   "metadata": {},
   "source": [
    "## Copia de archivos con `cp`"
   ]
  },
  {
   "cell_type": "markdown",
   "metadata": {},
   "source": [
    "Su sintaxis es `cp` *`origen`*  *`destino`*. En el siguiente ejemplo se crea una copia de `out.1` llamada `out.2`."
   ]
  },
  {
   "cell_type": "code",
   "execution_count": 13,
   "metadata": {},
   "outputs": [
    {
     "name": "stdout",
     "output_type": "stream",
     "text": [
      "-rw-r--r--  1 jdvelasq  staff  0 Jan 23 16:08 out.1\n",
      "-rw-r--r--  1 jdvelasq  staff  0 Jan 23 16:08 out.2\n"
     ]
    }
   ],
   "source": [
    "cp out.1 out.2\n",
    "ls -l out*"
   ]
  },
  {
   "cell_type": "markdown",
   "metadata": {},
   "source": [
    "## Renombrado y movimiento de archivos con `mv`"
   ]
  },
  {
   "cell_type": "markdown",
   "metadata": {},
   "source": [
    "`mv` puede cambiar la ubicación y el nombre de un archivo. Su sintaxis es `mv` *`origen`*  *`destino`*."
   ]
  },
  {
   "cell_type": "markdown",
   "metadata": {},
   "source": [
    "En el siguiente ejemplo se cambia el nombre del archivo `out.2` a `out.3`."
   ]
  },
  {
   "cell_type": "code",
   "execution_count": 14,
   "metadata": {},
   "outputs": [
    {
     "name": "stdout",
     "output_type": "stream",
     "text": [
      "-rw-r--r--  1 jdvelasq  staff  0 Jan 23 16:08 out.1\n",
      "-rw-r--r--  1 jdvelasq  staff  0 Jan 23 16:08 out.3\n"
     ]
    }
   ],
   "source": [
    "mv out.2 out.3\n",
    "ls -l out*"
   ]
  },
  {
   "cell_type": "markdown",
   "metadata": {},
   "source": [
    "## Borrado de archivos con `rm`   "
   ]
  },
  {
   "cell_type": "markdown",
   "metadata": {},
   "source": [
    "A continuación se borran todos los archivos creados como ejemplos en este libro."
   ]
  },
  {
   "cell_type": "code",
   "execution_count": 15,
   "metadata": {
    "collapsed": true,
    "scrolled": true
   },
   "outputs": [],
   "source": [
    "rm out*"
   ]
  },
  {
   "cell_type": "markdown",
   "metadata": {},
   "source": [
    "---"
   ]
  },
  {
   "cell_type": "markdown",
   "metadata": {},
   "source": [
    "Archivos y Directorios\n",
    "===\n",
    "\n",
    "**Juan David Velásquez Henao**  \n",
    "jdvelasq@unal.edu.co   \n",
    "Universidad Nacional de Colombia, Sede Medellín  \n",
    "Facultad de Minas  \n",
    "Medellín, Colombia\n",
    "\n",
    "---\n",
    "\n",
    "Haga click [aquí](https://github.com/jdvelasq/bash-for-analytics/tree/master/) para acceder al repositorio online.\n",
    "\n",
    "Haga click [aquí](http://nbviewer.jupyter.org/github/jdvelasq/Bash-for-analytics/tree/master/) para explorar el repositorio usando `nbviewer`. "
   ]
  }
 ],
 "metadata": {
  "kernelspec": {
   "display_name": "Bash",
   "language": "bash",
   "name": "bash"
  },
  "language_info": {
   "codemirror_mode": "shell",
   "file_extension": ".sh",
   "mimetype": "text/x-sh",
   "name": "bash"
  },
  "nbpresent": {
   "slides": {
    "940b5fc9-9cdd-41d7-8372-719403fc2bd2": {
     "id": "940b5fc9-9cdd-41d7-8372-719403fc2bd2",
     "prev": null,
     "regions": {
      "395f31a1-eb6e-4371-acb3-490ee879b8b8": {
       "attrs": {
        "height": 0.2,
        "width": 0.4,
        "x": 0.5,
        "y": 0.7
       },
       "id": "395f31a1-eb6e-4371-acb3-490ee879b8b8"
      },
      "92e1a1f9-4ebc-41a2-bfe8-899c8e794d14": {
       "attrs": {
        "height": 0.8,
        "width": 0.8,
        "x": 0.1,
        "y": 0.1
       },
       "id": "92e1a1f9-4ebc-41a2-bfe8-899c8e794d14"
      },
      "ad53a586-a210-4ed7-adb4-961b08e598b8": {
       "attrs": {
        "height": 0.2,
        "width": 0.4,
        "x": 0.1,
        "y": 0.7
       },
       "id": "ad53a586-a210-4ed7-adb4-961b08e598b8"
      },
      "bd4aba0d-fa0b-42e7-81a3-0beac29f2241": {
       "attrs": {
        "height": 0.8,
        "width": 0.8,
        "x": 0.1,
        "y": 0.1
       },
       "id": "bd4aba0d-fa0b-42e7-81a3-0beac29f2241"
      },
      "cefb04b2-32f0-4965-923e-1a6b36c37fd8": {
       "attrs": {
        "height": 0.6,
        "width": 0.8,
        "x": 0.1,
        "y": 0.1
       },
       "content": {
        "cell": "a4b09f9a-453a-4787-83c4-61a43f75d860",
        "part": "source"
       },
       "id": "cefb04b2-32f0-4965-923e-1a6b36c37fd8"
      }
     }
    }
   }
  }
 },
 "nbformat": 4,
 "nbformat_minor": 1
}
