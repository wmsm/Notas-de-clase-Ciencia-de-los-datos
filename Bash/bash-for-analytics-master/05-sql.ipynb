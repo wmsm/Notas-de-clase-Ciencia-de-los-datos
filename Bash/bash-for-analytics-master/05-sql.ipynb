{
 "cells": [
  {
   "cell_type": "markdown",
   "metadata": {},
   "source": [
    "SQL\n",
    "===\n",
    "\n",
    "**Juan David Velásquez Henao**  \n",
    "jdvelasq@unal.edu.co   \n",
    "Universidad Nacional de Colombia, Sede Medellín  \n",
    "Facultad de Minas  \n",
    "Medellín, Colombia\n",
    "\n",
    "\n",
    "---\n",
    "\n",
    "Haga click [aquí](https://github.com/jdvelasq/bash-for-analytics/tree/master/) para acceder al repositorio online.\n",
    "\n",
    "Haga click [aquí](http://nbviewer.jupyter.org/github/jdvelasq/bash-for-analytics/tree/master/) para explorar el repositorio usando `nbviewer`. "
   ]
  },
  {
   "cell_type": "markdown",
   "metadata": {},
   "source": [
    "---"
   ]
  },
  {
   "cell_type": "markdown",
   "metadata": {},
   "source": [
    "# `csvkit`"
   ]
  },
  {
   "cell_type": "markdown",
   "metadata": {},
   "source": [
    "`csvkit` es una libreria de Python que permite ejecutar consultas SQL sobre archivos en formato CSV. Este lenguaje es utilizado en los motores de bases de datos para acceder a la información de manera práctica y resumida. Se abordará unicamente con efectos de consulta, no para administración de sistemas gestores de bases de datos."
   ]
  },
  {
   "cell_type": "markdown",
   "metadata": {},
   "source": [
    "Esta herramienta se instala a través del siguiente comando directamente en Python o en el Anaconda Promt:\n",
    "\n",
    "    pip install csvkit\n",
    "    "
   ]
  },
  {
   "cell_type": "markdown",
   "metadata": {},
   "source": [
    "## `in2csv`"
   ]
  },
  {
   "cell_type": "markdown",
   "metadata": {},
   "source": [
    "Los archivos a utilizar serán los incluidos en la carpeta de ejemplo del curso, sin embargo, `csvkit` permite a través de la función `in2csv` transformar una fuente de datos en Excel a csv de acuerdo con la siguiente estructura:"
   ]
  },
  {
   "cell_type": "markdown",
   "metadata": {},
   "source": [
    "       in2csv Archivo.xls > Data.csv"
   ]
  },
  {
   "cell_type": "markdown",
   "metadata": {},
   "source": [
    "Haga click [aquí](http://csvkit.readthedocs.io/en/1.0.2/scripts/in2csv.html) para acceder a la documentación de la función."
   ]
  },
  {
   "cell_type": "code",
   "execution_count": 1,
   "metadata": {
    "collapsed": true
   },
   "outputs": [],
   "source": [
    "cd file"
   ]
  },
  {
   "cell_type": "markdown",
   "metadata": {},
   "source": [
    "## `csvcut`"
   ]
  },
  {
   "cell_type": "markdown",
   "metadata": {},
   "source": [
    "`csvcut` es una función que permite gestionar por columnas; filtrar y editar los campos."
   ]
  },
  {
   "cell_type": "markdown",
   "metadata": {},
   "source": [
    "La opción `-n` imprime los nombres de las columnas y sus respectivos indices."
   ]
  },
  {
   "cell_type": "code",
   "execution_count": 2,
   "metadata": {},
   "outputs": [
    {
     "name": "stdout",
     "output_type": "stream",
     "text": [
      "  1: num\n",
      "  2: employee.id\n",
      "  3: fullname\n",
      "  4: department\n",
      "  5: ssn\n",
      "  6: phone\n",
      "  7: city\n",
      "  8: maritalstatus\n",
      "  9: birthdate\n"
     ]
    }
   ],
   "source": [
    "csvcut -n employee"
   ]
  },
  {
   "cell_type": "markdown",
   "metadata": {},
   "source": [
    "La opción `-c` permite filtrar columnas de interés y guardarlas en un nuevo archivo."
   ]
  },
  {
   "cell_type": "code",
   "execution_count": 3,
   "metadata": {
    "scrolled": true
   },
   "outputs": [
    {
     "name": "stdout",
     "output_type": "stream",
     "text": [
      "maritalstatus,city\n",
      "Common-Law,ONEONTA\n",
      "Married,PALOS VERDES ESTATES\n",
      "Common-Law,WARSAW\n",
      "Single,NEW CITY\n",
      "Common-Law,CIALES\n",
      "Single,BRODNAX\n",
      "Single,ALEX CITY\n",
      "Single,CUTLER\n",
      "Single,KERSEY\n"
     ]
    }
   ],
   "source": [
    "csvcut -c maritalstatus,city employee > new.csv\n",
    "head new.csv"
   ]
  },
  {
   "cell_type": "markdown",
   "metadata": {},
   "source": [
    "# `csvsql`"
   ]
  },
  {
   "cell_type": "markdown",
   "metadata": {},
   "source": [
    "`csvsql` es la función que permite ejercutar comandos SQL sobre los archivos, generando nuevos conjuntos de datos o incluyendo información directamente a la base de datos.\n",
    "\n",
    "> Un tutorial de SQL es presentado [aquí](https://github.com/jdvelasq/SQL-basics)."
   ]
  },
  {
   "cell_type": "markdown",
   "metadata": {},
   "source": [
    "El parámetro `--query` del comando `csvsql` permite ejecutar cualquier consulta del tipo DML (se usan para consultar, filtrar y ordenar datos) sobre un archivo usando el lenguaje SQL. Los elementos escenciales para este tipo de consulta son:\n",
    "\n",
    "    SELECT             <campos o columnas en la tabla a visualizar> \n",
    "    SELECT DISTINCT    <valores únicos en los campos>\n",
    "    FROM               <tabla o consulta> \n",
    "    WHERE              <condiciones sobre las columnas de la tabla> \n",
    "    AND/OR             <comando para indicar unión o intersección de condiciones>\n",
    "    AS                 <renombrar una columna o nuevo campo>\n",
    "    GROUP BY           <campos por los cuales se formaran conjuntos> \n",
    "    ORDER BY           <ordernar por un conjunto de columnas>\n",
    "    LIMIT              <límite de filas que se mostratrán>\n"
   ]
  },
  {
   "cell_type": "markdown",
   "metadata": {},
   "source": [
    "A continuación sobre el archivo `employee` se requiere guardar los datos de la columna 'fullname' y 'department', para ello se utiliza 'select fullname,department' para escoger las columnas a las cuales se les aplica la consulta y 'from employee' para determinar la tabla en cuestión, en este caso todo el archivo:"
   ]
  },
  {
   "cell_type": "code",
   "execution_count": 4,
   "metadata": {
    "scrolled": false
   },
   "outputs": [
    {
     "name": "stdout",
     "output_type": "stream",
     "text": [
      "fullname,maritalstatus\n",
      "Fiona Ball,Common-Law\n",
      "Palma Naylor,Married\n",
      "Katharine Flemming,Common-Law\n",
      "Shaun Colon,Single\n",
      "Pearl Militello,Common-Law\n",
      "Vern Largo,Single\n",
      "Sabrina Vargas,Single\n",
      "Sal Beaulieu,Single\n",
      "Edna Vitale,Single\n"
     ]
    }
   ],
   "source": [
    "csvsql --query 'select fullname,maritalstatus from employee' employee > out_1\n",
    "head out_1"
   ]
  },
  {
   "cell_type": "markdown",
   "metadata": {},
   "source": [
    "A través de `select distinct` se imprimen los registros únicos de la columna 'department':"
   ]
  },
  {
   "cell_type": "code",
   "execution_count": 5,
   "metadata": {},
   "outputs": [
    {
     "name": "stdout",
     "output_type": "stream",
     "text": [
      "department\n",
      "Accounting\n",
      "Advertising\n",
      "Asset Management\n",
      "Customer Relations\n",
      "Customer Service\n",
      "Finances\n",
      "Human Resources\n",
      "Legal Department\n",
      "Media Relations\n",
      "Payroll\n",
      "Public Relations\n",
      "Quality Assurance\n",
      "Sales and Marketing\n",
      "Research and Development\n",
      "Tech Support\n"
     ]
    }
   ],
   "source": [
    "csvsql --query 'select distinct department from employee' employee "
   ]
  },
  {
   "cell_type": "markdown",
   "metadata": {},
   "source": [
    "El comando `limit` permite restringir el número de filas en cuestión. \n",
    "\n",
    "En el siguiente ejemplo se guardan los primeros 10 registros de las columnas `fullname` y `ssn`, y adicionalmente a través de `order by` se organiza alfabeticamente de acuerdo con los nombres:"
   ]
  },
  {
   "cell_type": "code",
   "execution_count": 6,
   "metadata": {},
   "outputs": [
    {
     "name": "stdout",
     "output_type": "stream",
     "text": [
      "fullname,ssn\n",
      "Abby Mccray,496-99-2998\n",
      "Abigail Harrell,242-97-5957\n",
      "Albert Whitney,496-24-4704\n",
      "Alexandria Beatty,242-97-4177\n",
      "Andera Jolley,496-36-8473\n",
      "Bridgett Bier,242-97-8961\n",
      "Caridad Hutcherson,893-24-4950\n",
      "Caridad Jenson,893-99-1977\n",
      "Carla Polk,323-35-5441\n",
      "Cary Hartnett,323-99-4177\n"
     ]
    }
   ],
   "source": [
    "csvsql --query 'select fullname,ssn from employee order by fullname limit 10' employee > out_2\n",
    "cat out_2"
   ]
  },
  {
   "cell_type": "markdown",
   "metadata": {},
   "source": [
    "**Ejercicio.--** Obtenga un archivo con los número de telefóno de los empleados casados por ciudad."
   ]
  },
  {
   "cell_type": "markdown",
   "metadata": {},
   "source": [
    "---"
   ]
  },
  {
   "cell_type": "markdown",
   "metadata": {},
   "source": [
    "Las funciones `count` (conteo), `avg` (cálculo de media) y `sum` (suma) permiten realizar operaciones sobre filas y columnas en consulta.\n",
    "\n",
    "A continuación se cuenta el número de empleados que pertenecen cada departamento a través de `select distinct`, agrupando por columnas con `group by` y nombrando la nueva columna con `as`. Adicionalmente se organiza de menor a mayor número de miembros a través de `order by`:"
   ]
  },
  {
   "cell_type": "code",
   "execution_count": 7,
   "metadata": {},
   "outputs": [
    {
     "name": "stdout",
     "output_type": "stream",
     "text": [
      "department,total_empleados\n",
      "Advertising,1\n",
      "Customer Relations,1\n",
      "Finances,1\n",
      "Legal Department,1\n",
      "Quality Assurance,1\n",
      "Tech Support,1\n",
      "Accounting,2\n",
      "Customer Service,2\n",
      "Media Relations,2\n",
      "Research and Development,2\n",
      "Asset Management,3\n",
      "Payroll,3\n",
      "Human Resources,4\n",
      "Public Relations,5\n",
      "Sales and Marketing,21\n"
     ]
    }
   ],
   "source": [
    "csvsql --query 'select distinct department,count(department) as total_empleados from employee group by department order by total_empleados' employee "
   ]
  },
  {
   "cell_type": "markdown",
   "metadata": {},
   "source": [
    "Note que las funciones `order by` y `group by` se ubican al final del comando.\n"
   ]
  },
  {
   "cell_type": "markdown",
   "metadata": {},
   "source": [
    "En el siguiente ejemplo se utiliza el archivo `order detail` para obtener la cantidad de artículos vendidos por producto y cuanto fue el total de la venta por artículo para dicha compra; esta columna se calcula multiplicando la cantidad por el precio:"
   ]
  },
  {
   "cell_type": "code",
   "execution_count": 8,
   "metadata": {},
   "outputs": [
    {
     "name": "stdout",
     "output_type": "stream",
     "text": [
      "n,order.id,product.id,customer.id,quantity,price,total\n",
      "25925,5245,1,54,4,426,1704\n",
      "25848,5227,2,20,9,583,5247\n",
      "25821,5221,3,32,12,870,10440\n",
      "25768,5211,4,7,5,831,4155\n",
      "25857,5229,5,12,12,980,11760\n",
      "25928,5246,6,119,13,643,8359\n",
      "25945,5249,7,52,0,831,0\n",
      "25808,5218,8,80,6,478,2868\n",
      "25526,5159,9,73,12,891,10692\n"
     ]
    }
   ],
   "source": [
    "csvsql --query 'select *,\"quantity\"*\"price\" as total from orderdetail group by \"product.id\"' orderdetail > out_3  \n",
    "head out_3"
   ]
  },
  {
   "cell_type": "markdown",
   "metadata": {},
   "source": [
    "El simbolo  *  luego del comando `select` indica que se seleccionan todos los campos de la tabla."
   ]
  },
  {
   "cell_type": "markdown",
   "metadata": {},
   "source": [
    "Se desea conocer cual es el mínimo pedido dentro de cada orden, para ello es necesario agrupar los ingresos totales por cada pedido en cada orden y encontrar el mínimo entre ellos. "
   ]
  },
  {
   "cell_type": "code",
   "execution_count": 9,
   "metadata": {},
   "outputs": [
    {
     "name": "stdout",
     "output_type": "stream",
     "text": [
      "orden,total\n",
      "1,0\n",
      "2,234\n",
      "3,126\n",
      "4,0\n",
      "5,918\n",
      "6,105\n",
      "7,112\n",
      "8,525\n",
      "9,420\n"
     ]
    }
   ],
   "source": [
    "csvsql --query 'select \"order.id\" as orden,min(\"quantity\"*\"price\") as total from orderdetail group by orden' orderdetail > out_4\n",
    "head out_4"
   ]
  },
  {
   "cell_type": "markdown",
   "metadata": {},
   "source": [
    "A continuación se requieren filtrar los pedidos que generan mas de 10.000 en ingresos."
   ]
  },
  {
   "cell_type": "code",
   "execution_count": 10,
   "metadata": {},
   "outputs": [
    {
     "name": "stdout",
     "output_type": "stream",
     "text": [
      "n,order.id,product.id,customer.id,quantity,price,total\n",
      "25821,5221,3,32,12,870,10440\n",
      "25857,5229,5,12,12,980,11760\n",
      "25526,5159,9,73,12,891,10692\n",
      "25360,5123,16,45,13,806,10478\n",
      "25750,5208,44,34,14,750,10500\n",
      "25930,5246,54,10,11,976,10736\n",
      "25932,5247,56,40,13,979,12727\n",
      "25795,5215,65,19,11,926,10186\n",
      "25564,5167,91,7,15,701,10515\n",
      "25898,5238,99,115,15,707,10605\n",
      "25866,5231,105,60,13,815,10595\n",
      "25884,5235,118,24,15,683,10245\n",
      "25892,5237,136,89,12,860,10320\n"
     ]
    }
   ],
   "source": [
    "csvsql --query 'select * from out_3 where total > 10000' out_3"
   ]
  },
  {
   "cell_type": "markdown",
   "metadata": {},
   "source": [
    "Cabe resaltar que de acuerdo con los ingresos calculados, algunos campos son cero lo que denota que la orden fue gratis o por error se registró un pedido con cero unidades. Tomando este ejemplo, a continuación se filtran los campos defectuosos:"
   ]
  },
  {
   "cell_type": "code",
   "execution_count": 11,
   "metadata": {},
   "outputs": [
    {
     "name": "stdout",
     "output_type": "stream",
     "text": [
      "n,order.id,product.id,customer.id,quantity,price,total\n",
      "25945,5249,7,52,0,831,0\n",
      "25926,5245,12,50,0,852,0\n",
      "25904,5241,18,108,0,418,0\n",
      "25561,5166,48,5,0,741,0\n",
      "25752,5209,81,125,0,640,0\n",
      "25850,5228,133,15,0,675,0\n"
     ]
    }
   ],
   "source": [
    "csvsql --query 'select * from out_3 where quantity = 0 or price = 0' out_3 > out_5\n",
    "cat out_5"
   ]
  },
  {
   "cell_type": "markdown",
   "metadata": {},
   "source": [
    "**Ejercicio.--** Extraiga del archivo `order detail` los productos que generan mayor ingreso al negocio."
   ]
  },
  {
   "cell_type": "markdown",
   "metadata": {},
   "source": [
    "---"
   ]
  },
  {
   "cell_type": "markdown",
   "metadata": {},
   "source": [
    "El comando `like` permite realizar consultas y filtros a través del patrón específico del registro.Para ello, cuenta con los siguientes operadores que funcionan como busquedas a través de expresiones regulares comunes:"
   ]
  },
  {
   "cell_type": "markdown",
   "metadata": {},
   "source": [
    "    Like '%p'  <busca los campos que finalicen con p> \n",
    "    Like 'p%'  <busca los campos que inicien con p>\n",
    "    Like '%p%' <busca los campos que contenga p>\n",
    "    Like '_p%' <busca los campos que contengan una p en la segunda posición>"
   ]
  },
  {
   "cell_type": "markdown",
   "metadata": {},
   "source": [
    "A continuación se filtran las personas pertenecientes a una misma familia a través del apellido en común:"
   ]
  },
  {
   "cell_type": "code",
   "execution_count": 14,
   "metadata": {},
   "outputs": [
    {
     "name": "stdout",
     "output_type": "stream",
     "text": [
      "num,parent.id,fullname,ssn,birthdate\n",
      "1,19,Verlie Bailey,496-35-2171,2011-06-10 17:28:19.000000\n",
      "24,19,Wilson Bailey,496-99-2998,2012-12-17 05:09:27.000000\n",
      "27,19,Jean Bailey,661-35-4381,2014-07-24 18:09:03.000000\n",
      "70,19,Bridgette Bailey,532-99-1147,2013-08-05 08:48:32.000000\n",
      "114,19,Crista Bailey,125-35-5195,2012-11-13 10:11:57.000000\n",
      "139,19,Barbra Bailey,496-24-2171,2013-04-26 04:51:34.000000\n"
     ]
    }
   ],
   "source": [
    "csvsql --query 'select * from family where \"fullname\" like \"%Bailey%\"' family"
   ]
  },
  {
   "cell_type": "markdown",
   "metadata": {},
   "source": [
    "En el siguiente comando se seleccionan los nacimientos de hijos en 2016 organizados por fecha, mostrando el código del padre y el nombre completo:"
   ]
  },
  {
   "cell_type": "code",
   "execution_count": 15,
   "metadata": {},
   "outputs": [
    {
     "name": "stdout",
     "output_type": "stream",
     "text": [
      "parent.id,fullname,birthdate\n",
      "46,Contessa Tapp,2016-01-11 10:59:34.000000\n",
      "38,Naomi Lafayette,2016-01-14 00:08:24.000000\n",
      "34,Darryl Laster,2016-01-31 09:43:33.000000\n",
      "38,Emmanuel Lafayette,2016-02-23 06:12:08.000000\n",
      "35,Lula Petry,2016-03-08 16:04:28.000000\n",
      "46,Arlene Tapp,2016-03-18 19:12:25.000000\n",
      "24,Magdalena Renwick,2016-03-19 10:52:54.000000\n",
      "25,Damaris Beebe,2016-05-01 10:18:08.000000\n",
      "26,Lourdes Purvis,2016-05-24 05:55:03.000000\n",
      "10,Bernarda Tippett,2016-05-29 11:47:28.000000\n",
      "11,Hedwig Sawyers,2016-06-05 12:26:12.000000\n",
      "9,Noah Huskey,2016-06-05 19:26:16.000000\n",
      "1,Denny Durkin,2016-06-12 11:11:57.000000\n"
     ]
    }
   ],
   "source": [
    "csvsql --query 'select \"parent.id\",\"fullname\", \"birthdate\" from family where \"birthdate\" like \"2016%\" order by \"birthdate\"' family"
   ]
  },
  {
   "cell_type": "markdown",
   "metadata": {},
   "source": [
    "En el siguiente comando se seleccionan los nacimientos de hijos en 2016 organizados por fecha, mostrando el código del padre y el nombre completo:"
   ]
  },
  {
   "cell_type": "code",
   "execution_count": 16,
   "metadata": {},
   "outputs": [
    {
     "name": "stdout",
     "output_type": "stream",
     "text": [
      "company,número\n",
      "A CUT ABOVE,1\n",
      "AKRON ELEM SCHOOL,1\n",
      "ALAMO HEIGHTS CENTER,1\n",
      "APT FIRELANDS,1\n",
      "BAYOU BEND TOWERS,1\n",
      "BEACH PLACE ONE,1\n",
      "BENEFITS CLAIMS INC,1\n",
      "BRUNO ASSOCIATES,1\n",
      "CLARKIN & TOWSEND,1\n",
      "DORSI & SMITH,1\n",
      "DR INGRID OSSWALD,1\n",
      "DR MONGIA,1\n",
      "ELIOT WOODS CONDO,1\n",
      "ELMWOOD APTS OFFICE,1\n",
      "EVANS DRYWELL,1\n",
      "EXTRA BOXES,1\n",
      "FARMINGDALE CONDOS,1\n",
      "FRANK MONDAY,1\n",
      "FRANS AUTO CENTER,1\n",
      "FRAZIER APTS,1\n",
      "G AND B CONTRUCTION,1\n"
     ]
    }
   ],
   "source": [
    "csvsql --query 'select company,count(company) as número from customer where \"ccntype\" like \"%U.S.%\" group by \"company\"' customer"
   ]
  },
  {
   "cell_type": "markdown",
   "metadata": {},
   "source": [
    "---"
   ]
  },
  {
   "cell_type": "markdown",
   "metadata": {},
   "source": [
    "En el siguiente ejemplo se requiere guardar la información de 'product.key' y 'supplier.id' que se encuentra en el archivo `product`  para los productos registrados en el archivo anterior en donde reposa la cantidad y los ingresos."
   ]
  },
  {
   "cell_type": "code",
   "execution_count": 17,
   "metadata": {},
   "outputs": [
    {
     "name": "stdout",
     "output_type": "stream",
     "text": [
      "product.key,supplier.id\n",
      "YWAG895,4\n",
      "CKZS960,1\n",
      "BXXU863,8\n",
      "AHJM307,8\n",
      "ZOJB822,8\n",
      "YFSM789,6\n",
      "WAIZ521,1\n",
      "VFAO391,2\n",
      "TFWW446,9\n"
     ]
    }
   ],
   "source": [
    "csvsql --query 'select \"product.key\",\"supplier.id\" from product left join out_3 on out_3.\"product.id\"=product.\"product.id\"' product out_3 > out_4\n",
    "head out_4"
   ]
  },
  {
   "cell_type": "markdown",
   "metadata": {},
   "source": [
    "**Ejercicio.--** Obtenga una tabla que contenga todos los archivos `order****`  agregando una columna que indique el año."
   ]
  },
  {
   "cell_type": "markdown",
   "metadata": {},
   "source": [
    "---"
   ]
  },
  {
   "cell_type": "markdown",
   "metadata": {},
   "source": [
    "## Borrado de archivos temporales"
   ]
  },
  {
   "cell_type": "markdown",
   "metadata": {},
   "source": [
    "A continuación se borran todos los archivos creados como ejemplos en este libro."
   ]
  },
  {
   "cell_type": "code",
   "execution_count": 13,
   "metadata": {
    "collapsed": true
   },
   "outputs": [],
   "source": [
    "rm out*"
   ]
  },
  {
   "cell_type": "markdown",
   "metadata": {},
   "source": [
    "---"
   ]
  },
  {
   "cell_type": "markdown",
   "metadata": {},
   "source": [
    "SQL\n",
    "===\n",
    "\n",
    "**Juan David Velásquez Henao**  \n",
    "jdvelasq@unal.edu.co   \n",
    "Universidad Nacional de Colombia, Sede Medellín  \n",
    "Facultad de Minas  \n",
    "Medellín, Colombia\n",
    "\n",
    "---\n",
    "\n",
    "Haga click [aquí](https://github.com/jdvelasq/bash-for-analytics/tree/master/) para acceder al repositorio online.\n",
    "\n",
    "Haga click [aquí](http://nbviewer.jupyter.org/github/jdvelasq/bash-for-analytics/tree/master/) para explorar el repositorio usando `nbviewer`. "
   ]
  }
 ],
 "metadata": {
  "kernelspec": {
   "display_name": "Bash",
   "language": "bash",
   "name": "bash"
  },
  "language_info": {
   "codemirror_mode": "shell",
   "file_extension": ".sh",
   "mimetype": "text/x-sh",
   "name": "bash"
  }
 },
 "nbformat": 4,
 "nbformat_minor": 2
}
