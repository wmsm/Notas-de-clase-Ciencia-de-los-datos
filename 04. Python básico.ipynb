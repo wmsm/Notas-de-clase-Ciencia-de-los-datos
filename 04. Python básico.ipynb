{
 "cells": [
  {
   "cell_type": "markdown",
   "metadata": {},
   "source": [
    "# Introducción a Python\n",
    "En este cuaderno podremos encontrar el uso básico de Python\n",
    "\n",
    "* Creación de funciones"
   ]
  },
  {
   "cell_type": "code",
   "execution_count": 5,
   "metadata": {},
   "outputs": [],
   "source": [
    "def funcion(x): #Forma básica de una funcion de python, con un argumento llamado x que retorna su cuadrado\n",
    "    return x**2\n",
    "\n",
    "def funcion1(x): return x**2 #Forma de un solo renglon, algo similar a como se haría con expresiones lambda\n",
    "\n",
    "funcion2 = lambda x: x**2 #Asignación de una expresion lambda (funcion anónima) a una variable"
   ]
  },
  {
   "cell_type": "code",
   "execution_count": 7,
   "metadata": {},
   "outputs": [
    {
     "name": "stdout",
     "output_type": "stream",
     "text": [
      "9\n",
      "9\n",
      "9\n"
     ]
    }
   ],
   "source": [
    "print(str( funcion(3)))\n",
    "print(str(funcion1(3)))\n",
    "print(str(funcion2(3)))"
   ]
  },
  {
   "cell_type": "markdown",
   "metadata": {},
   "source": [
    "* Funciones matemáticas\n",
    "\n",
    "Estas funciones son funciones predefinidas"
   ]
  },
  {
   "cell_type": "code",
   "execution_count": 5,
   "metadata": {},
   "outputs": [
    {
     "data": {
      "text/plain": [
       "-21.40461566820338"
      ]
     },
     "execution_count": 5,
     "metadata": {},
     "output_type": "execute_result"
    }
   ],
   "source": [
    "from math import exp, factorial, sin, pi\n",
    "((5-(1-(3-exp(1/8))))/(3-(4-2)*(2-3/8)))-factorial(2)*((-1)**3)+sin(0.98*pi)"
   ]
  },
  {
   "cell_type": "markdown",
   "metadata": {},
   "source": [
    "Como los strings son tratados como listas de caracteres, heredan sus propiedades como usar el comando '\\*' como simbolo de repeticion y el mas como metodo de concatenado"
   ]
  },
  {
   "cell_type": "code",
   "execution_count": 6,
   "metadata": {},
   "outputs": [
    {
     "data": {
      "text/plain": [
       "[1, 2, 3, 1, 2, 3, 1, 2, 3]"
      ]
     },
     "execution_count": 6,
     "metadata": {},
     "output_type": "execute_result"
    }
   ],
   "source": [
    "3 * [1,2,3]"
   ]
  },
  {
   "cell_type": "code",
   "execution_count": 8,
   "metadata": {},
   "outputs": [
    {
     "data": {
      "text/plain": [
       "'abcabcabc'"
      ]
     },
     "execution_count": 8,
     "metadata": {},
     "output_type": "execute_result"
    }
   ],
   "source": [
    "3 * 'abc'"
   ]
  },
  {
   "cell_type": "code",
   "execution_count": 11,
   "metadata": {},
   "outputs": [
    {
     "data": {
      "text/plain": [
       "[1, 2, 3, 4, 5, 6]"
      ]
     },
     "execution_count": 11,
     "metadata": {},
     "output_type": "execute_result"
    }
   ],
   "source": [
    "[1,2,3] + [4,5,6]"
   ]
  },
  {
   "cell_type": "code",
   "execution_count": 12,
   "metadata": {},
   "outputs": [
    {
     "data": {
      "text/plain": [
       "'abcdef'"
      ]
     },
     "execution_count": 12,
     "metadata": {},
     "output_type": "execute_result"
    }
   ],
   "source": [
    "'abc' + 'def'"
   ]
  },
  {
   "cell_type": "markdown",
   "metadata": {},
   "source": [
    "Pero ademas, de tener estos métodos heredados tienen otras particularidades como el hecho de no necesitar obligatoriamente el simbolo '+' para concatenar o funciones propias para la manipualcion de caracteres"
   ]
  },
  {
   "cell_type": "code",
   "execution_count": 15,
   "metadata": {},
   "outputs": [
    {
     "data": {
      "text/plain": [
       "'hola mundo'"
      ]
     },
     "execution_count": 15,
     "metadata": {},
     "output_type": "execute_result"
    }
   ],
   "source": [
    "'h-o-l-a-' ' m-u-n-d-o'.replace('-','')"
   ]
  },
  {
   "cell_type": "markdown",
   "metadata": {},
   "source": [
    "Ejercicios de condicionales"
   ]
  },
  {
   "cell_type": "code",
   "execution_count": 24,
   "metadata": {},
   "outputs": [
    {
     "name": "stdout",
     "output_type": "stream",
     "text": [
      "1\n",
      "0\n",
      "2\n"
     ]
    }
   ],
   "source": [
    "def absval(x):\n",
    "    return x if x > 0 else -x if x < 0 else 0 if x == 0 else None\n",
    "\n",
    "print(absval(-1))\n",
    "print(absval(0))\n",
    "print(absval(2))"
   ]
  },
  {
   "cell_type": "code",
   "execution_count": 25,
   "metadata": {},
   "outputs": [
    {
     "name": "stdout",
     "output_type": "stream",
     "text": [
      "120\n",
      "6\n",
      "1\n"
     ]
    }
   ],
   "source": [
    "def f(n):\n",
    "    return n*(f(n-1)) if n > 0 else 1\n",
    "\n",
    "print(f(5))\n",
    "print(f(3))\n",
    "print(f(1))"
   ]
  },
  {
   "cell_type": "code",
   "execution_count": 40,
   "metadata": {},
   "outputs": [
    {
     "name": "stdout",
     "output_type": "stream",
     "text": [
      "6\n",
      "6\n"
     ]
    }
   ],
   "source": [
    "def cont(a):\n",
    "    if a==[]:\n",
    "        return 0\n",
    "    if type(a) is list:\n",
    "        return cont(a[0]) + cont(a[1:])\n",
    "    return 1\n",
    "\n",
    "print(cont([['a', 'b', 'c'], [1, 2, 3]]))\n",
    "print(cont([['a', ['b', 'c']], [1, 2, 3]]))"
   ]
  },
  {
   "cell_type": "code",
   "execution_count": 41,
   "metadata": {},
   "outputs": [
    {
     "name": "stdout",
     "output_type": "stream",
     "text": [
      "['a', 'b', 'c', 1, 2, 3]\n",
      "['a', 'b', 'c', 1, 2, 3]\n"
     ]
    }
   ],
   "source": [
    "def cont(a):\n",
    "    if a==[]:\n",
    "        return []\n",
    "    if type(a) is list:\n",
    "        return cont(a[0]) + cont(a[1:])\n",
    "    return [a]\n",
    "\n",
    "print(cont([['a', 'b', 'c'], [1, 2, 3]]))\n",
    "print(cont([['a', ['b', 'c']], [1, 2, 3]]))"
   ]
  },
  {
   "cell_type": "code",
   "execution_count": 4,
   "metadata": {},
   "outputs": [
    {
     "data": {
      "text/plain": [
       "[4]"
      ]
     },
     "execution_count": 4,
     "metadata": {},
     "output_type": "execute_result"
    }
   ],
   "source": [
    "a = [3,4,5]\n",
    "b = [x for x in a if x%2==0]\n",
    "b"
   ]
  }
 ],
 "metadata": {
  "kernelspec": {
   "display_name": "Python 3",
   "language": "python",
   "name": "python3"
  },
  "language_info": {
   "codemirror_mode": {
    "name": "ipython",
    "version": 3
   },
   "file_extension": ".py",
   "mimetype": "text/x-python",
   "name": "python",
   "nbconvert_exporter": "python",
   "pygments_lexer": "ipython3",
   "version": "3.6.5"
  }
 },
 "nbformat": 4,
 "nbformat_minor": 2
}
