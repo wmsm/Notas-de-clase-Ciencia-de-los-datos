{
 "cells": [
  {
   "cell_type": "markdown",
   "metadata": {},
   "source": [
    "# Introducción a Python\n",
    "En este cuaderno podremos encontrar el uso básico de Python\n",
    "\n",
    "* Creación de funciones"
   ]
  },
  {
   "cell_type": "code",
   "execution_count": 5,
   "metadata": {},
   "outputs": [],
   "source": [
    "def funcion(x): #Forma básica de una funcion de python, con un argumento llamado x que retorna su cuadrado\n",
    "    return x**2\n",
    "\n",
    "def funcion1(x): return x**2 #Forma de un solo renglon, algo similar a como se haría con expresiones lambda\n",
    "\n",
    "funcion2 = lambda x: x**2 #Asignación de una expresion lambda (funcion anónima) a una variable"
   ]
  },
  {
   "cell_type": "code",
   "execution_count": 7,
   "metadata": {},
   "outputs": [
    {
     "name": "stdout",
     "output_type": "stream",
     "text": [
      "9\n",
      "9\n",
      "9\n"
     ]
    }
   ],
   "source": [
    "print(str( funcion(3)))\n",
    "print(str(funcion1(3)))\n",
    "print(str(funcion2(3)))"
   ]
  },
  {
   "cell_type": "markdown",
   "metadata": {},
   "source": [
    "* Funciones matemáticas\n",
    "\n",
    "Estas funciones son funciones predefinidas"
   ]
  },
  {
   "cell_type": "markdown",
   "metadata": {},
   "source": [
    "k_n^2"
   ]
  }
 ],
 "metadata": {
  "kernelspec": {
   "display_name": "Python 3",
   "language": "python",
   "name": "python3"
  },
  "language_info": {
   "codemirror_mode": {
    "name": "ipython",
    "version": 3
   },
   "file_extension": ".py",
   "mimetype": "text/x-python",
   "name": "python",
   "nbconvert_exporter": "python",
   "pygments_lexer": "ipython3",
   "version": "3.6.5"
  }
 },
 "nbformat": 4,
 "nbformat_minor": 2
}
